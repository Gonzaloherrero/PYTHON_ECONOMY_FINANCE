{
 "cells": [
  {
   "cell_type": "markdown",
   "id": "8d911252-3724-45ef-b6d3-eb69b9eeea6f",
   "metadata": {},
   "source": [
    "# Testeo de estratégia"
   ]
  },
  {
   "cell_type": "code",
   "execution_count": 1,
   "id": "f1719d93-fcfe-4c98-8978-26a832f0a254",
   "metadata": {},
   "outputs": [],
   "source": [
    "import yfinance as yf\n",
    "import numpy as np\n",
    "import pandas as pd"
   ]
  },
  {
   "cell_type": "code",
   "execution_count": 2,
   "id": "63865b47-19fb-4ec6-b818-a344dba06094",
   "metadata": {},
   "outputs": [
    {
     "name": "stdout",
     "output_type": "stream",
     "text": [
      "[*********************100%***********************]  1 of 1 completed\n"
     ]
    }
   ],
   "source": [
    "start = '1993-02-01'\n",
    "end = '2007-12-31'\n",
    "\n",
    "sp=yf.download('SPY',start,end)"
   ]
  },
  {
   "cell_type": "code",
   "execution_count": 3,
   "id": "4cac392e-5b4e-438d-a215-930479a0fc5b",
   "metadata": {},
   "outputs": [],
   "source": [
    "retornos = np.log(sp / sp.shift()).dropna()"
   ]
  },
  {
   "cell_type": "code",
   "execution_count": 4,
   "id": "c81549be-581b-4c64-838a-497a6dc98f6b",
   "metadata": {},
   "outputs": [
    {
     "data": {
      "text/html": [
       "<div>\n",
       "<style scoped>\n",
       "    .dataframe tbody tr th:only-of-type {\n",
       "        vertical-align: middle;\n",
       "    }\n",
       "\n",
       "    .dataframe tbody tr th {\n",
       "        vertical-align: top;\n",
       "    }\n",
       "\n",
       "    .dataframe thead th {\n",
       "        text-align: right;\n",
       "    }\n",
       "</style>\n",
       "<table border=\"1\" class=\"dataframe\">\n",
       "  <thead>\n",
       "    <tr style=\"text-align: right;\">\n",
       "      <th></th>\n",
       "      <th>Open</th>\n",
       "      <th>High</th>\n",
       "      <th>Low</th>\n",
       "      <th>Close</th>\n",
       "      <th>Adj Close</th>\n",
       "      <th>Volume</th>\n",
       "    </tr>\n",
       "    <tr>\n",
       "      <th>Date</th>\n",
       "      <th></th>\n",
       "      <th></th>\n",
       "      <th></th>\n",
       "      <th></th>\n",
       "      <th></th>\n",
       "      <th></th>\n",
       "    </tr>\n",
       "  </thead>\n",
       "  <tbody>\n",
       "    <tr>\n",
       "      <th>1993-02-02</th>\n",
       "      <td>0.005670</td>\n",
       "      <td>0.002821</td>\n",
       "      <td>0.003547</td>\n",
       "      <td>0.002116</td>\n",
       "      <td>0.002117</td>\n",
       "      <td>-0.870031</td>\n",
       "    </tr>\n",
       "    <tr>\n",
       "      <th>1993-02-03</th>\n",
       "      <td>0.004231</td>\n",
       "      <td>0.010508</td>\n",
       "      <td>0.005650</td>\n",
       "      <td>0.010515</td>\n",
       "      <td>0.010515</td>\n",
       "      <td>0.966948</td>\n",
       "    </tr>\n",
       "    <tr>\n",
       "      <th>1993-02-04</th>\n",
       "      <td>0.012588</td>\n",
       "      <td>0.005559</td>\n",
       "      <td>0.002110</td>\n",
       "      <td>0.004175</td>\n",
       "      <td>0.004175</td>\n",
       "      <td>0.003959</td>\n",
       "    </tr>\n",
       "    <tr>\n",
       "      <th>1993-02-05</th>\n",
       "      <td>0.000000</td>\n",
       "      <td>-0.000693</td>\n",
       "      <td>0.005606</td>\n",
       "      <td>-0.000695</td>\n",
       "      <td>-0.000694</td>\n",
       "      <td>-0.077021</td>\n",
       "    </tr>\n",
       "    <tr>\n",
       "      <th>1993-02-08</th>\n",
       "      <td>0.000000</td>\n",
       "      <td>0.001386</td>\n",
       "      <td>0.004184</td>\n",
       "      <td>0.000000</td>\n",
       "      <td>0.000000</td>\n",
       "      <td>0.191726</td>\n",
       "    </tr>\n",
       "    <tr>\n",
       "      <th>...</th>\n",
       "      <td>...</td>\n",
       "      <td>...</td>\n",
       "      <td>...</td>\n",
       "      <td>...</td>\n",
       "      <td>...</td>\n",
       "      <td>...</td>\n",
       "    </tr>\n",
       "    <tr>\n",
       "      <th>2007-12-21</th>\n",
       "      <td>0.003603</td>\n",
       "      <td>0.010566</td>\n",
       "      <td>0.013070</td>\n",
       "      <td>0.009019</td>\n",
       "      <td>0.014313</td>\n",
       "      <td>-0.385587</td>\n",
       "    </tr>\n",
       "    <tr>\n",
       "      <th>2007-12-24</th>\n",
       "      <td>0.009791</td>\n",
       "      <td>0.007116</td>\n",
       "      <td>0.009406</td>\n",
       "      <td>0.007398</td>\n",
       "      <td>0.007398</td>\n",
       "      <td>-1.164246</td>\n",
       "    </tr>\n",
       "    <tr>\n",
       "      <th>2007-12-26</th>\n",
       "      <td>-0.001143</td>\n",
       "      <td>0.001337</td>\n",
       "      <td>0.000135</td>\n",
       "      <td>0.002142</td>\n",
       "      <td>0.002142</td>\n",
       "      <td>0.386143</td>\n",
       "    </tr>\n",
       "    <tr>\n",
       "      <th>2007-12-27</th>\n",
       "      <td>0.002486</td>\n",
       "      <td>-0.004352</td>\n",
       "      <td>-0.007978</td>\n",
       "      <td>-0.012651</td>\n",
       "      <td>-0.012651</td>\n",
       "      <td>0.605954</td>\n",
       "    </tr>\n",
       "    <tr>\n",
       "      <th>2007-12-28</th>\n",
       "      <td>-0.003226</td>\n",
       "      <td>-0.002822</td>\n",
       "      <td>-0.002855</td>\n",
       "      <td>-0.002509</td>\n",
       "      <td>-0.002509</td>\n",
       "      <td>-0.055019</td>\n",
       "    </tr>\n",
       "  </tbody>\n",
       "</table>\n",
       "<p>3756 rows × 6 columns</p>\n",
       "</div>"
      ],
      "text/plain": [
       "                Open      High       Low     Close  Adj Close    Volume\n",
       "Date                                                                   \n",
       "1993-02-02  0.005670  0.002821  0.003547  0.002116   0.002117 -0.870031\n",
       "1993-02-03  0.004231  0.010508  0.005650  0.010515   0.010515  0.966948\n",
       "1993-02-04  0.012588  0.005559  0.002110  0.004175   0.004175  0.003959\n",
       "1993-02-05  0.000000 -0.000693  0.005606 -0.000695  -0.000694 -0.077021\n",
       "1993-02-08  0.000000  0.001386  0.004184  0.000000   0.000000  0.191726\n",
       "...              ...       ...       ...       ...        ...       ...\n",
       "2007-12-21  0.003603  0.010566  0.013070  0.009019   0.014313 -0.385587\n",
       "2007-12-24  0.009791  0.007116  0.009406  0.007398   0.007398 -1.164246\n",
       "2007-12-26 -0.001143  0.001337  0.000135  0.002142   0.002142  0.386143\n",
       "2007-12-27  0.002486 -0.004352 -0.007978 -0.012651  -0.012651  0.605954\n",
       "2007-12-28 -0.003226 -0.002822 -0.002855 -0.002509  -0.002509 -0.055019\n",
       "\n",
       "[3756 rows x 6 columns]"
      ]
     },
     "execution_count": 4,
     "metadata": {},
     "output_type": "execute_result"
    }
   ],
   "source": [
    "retornos"
   ]
  },
  {
   "cell_type": "code",
   "execution_count": 5,
   "id": "ccb110db-bb23-4c9e-a4d5-82069a369085",
   "metadata": {},
   "outputs": [],
   "source": [
    "estrategias = pd.DataFrame(retornos['Adj Close'])"
   ]
  },
  {
   "cell_type": "code",
   "execution_count": 6,
   "id": "5941ec60-f0f9-47f7-82e3-4fb9e7223e7a",
   "metadata": {},
   "outputs": [
    {
     "data": {
      "text/html": [
       "<div>\n",
       "<style scoped>\n",
       "    .dataframe tbody tr th:only-of-type {\n",
       "        vertical-align: middle;\n",
       "    }\n",
       "\n",
       "    .dataframe tbody tr th {\n",
       "        vertical-align: top;\n",
       "    }\n",
       "\n",
       "    .dataframe thead th {\n",
       "        text-align: right;\n",
       "    }\n",
       "</style>\n",
       "<table border=\"1\" class=\"dataframe\">\n",
       "  <thead>\n",
       "    <tr style=\"text-align: right;\">\n",
       "      <th></th>\n",
       "      <th>Adj Close</th>\n",
       "    </tr>\n",
       "    <tr>\n",
       "      <th>Date</th>\n",
       "      <th></th>\n",
       "    </tr>\n",
       "  </thead>\n",
       "  <tbody>\n",
       "    <tr>\n",
       "      <th>1993-02-02</th>\n",
       "      <td>0.002117</td>\n",
       "    </tr>\n",
       "    <tr>\n",
       "      <th>1993-02-03</th>\n",
       "      <td>0.010515</td>\n",
       "    </tr>\n",
       "    <tr>\n",
       "      <th>1993-02-04</th>\n",
       "      <td>0.004175</td>\n",
       "    </tr>\n",
       "    <tr>\n",
       "      <th>1993-02-05</th>\n",
       "      <td>-0.000694</td>\n",
       "    </tr>\n",
       "    <tr>\n",
       "      <th>1993-02-08</th>\n",
       "      <td>0.000000</td>\n",
       "    </tr>\n",
       "    <tr>\n",
       "      <th>...</th>\n",
       "      <td>...</td>\n",
       "    </tr>\n",
       "    <tr>\n",
       "      <th>2007-12-21</th>\n",
       "      <td>0.014313</td>\n",
       "    </tr>\n",
       "    <tr>\n",
       "      <th>2007-12-24</th>\n",
       "      <td>0.007398</td>\n",
       "    </tr>\n",
       "    <tr>\n",
       "      <th>2007-12-26</th>\n",
       "      <td>0.002142</td>\n",
       "    </tr>\n",
       "    <tr>\n",
       "      <th>2007-12-27</th>\n",
       "      <td>-0.012651</td>\n",
       "    </tr>\n",
       "    <tr>\n",
       "      <th>2007-12-28</th>\n",
       "      <td>-0.002509</td>\n",
       "    </tr>\n",
       "  </tbody>\n",
       "</table>\n",
       "<p>3756 rows × 1 columns</p>\n",
       "</div>"
      ],
      "text/plain": [
       "            Adj Close\n",
       "Date                 \n",
       "1993-02-02   0.002117\n",
       "1993-02-03   0.010515\n",
       "1993-02-04   0.004175\n",
       "1993-02-05  -0.000694\n",
       "1993-02-08   0.000000\n",
       "...               ...\n",
       "2007-12-21   0.014313\n",
       "2007-12-24   0.007398\n",
       "2007-12-26   0.002142\n",
       "2007-12-27  -0.012651\n",
       "2007-12-28  -0.002509\n",
       "\n",
       "[3756 rows x 1 columns]"
      ]
     },
     "execution_count": 6,
     "metadata": {},
     "output_type": "execute_result"
    }
   ],
   "source": [
    "estrategias"
   ]
  },
  {
   "cell_type": "code",
   "execution_count": 7,
   "id": "39c1a605-18f8-4845-8e77-49ef0b987368",
   "metadata": {},
   "outputs": [],
   "source": [
    "estrategias.columns = ['SPY']"
   ]
  },
  {
   "cell_type": "code",
   "execution_count": 8,
   "id": "5d0797e6-2cc4-4b23-93ca-0e8445c6aae0",
   "metadata": {},
   "outputs": [
    {
     "data": {
      "text/html": [
       "<div>\n",
       "<style scoped>\n",
       "    .dataframe tbody tr th:only-of-type {\n",
       "        vertical-align: middle;\n",
       "    }\n",
       "\n",
       "    .dataframe tbody tr th {\n",
       "        vertical-align: top;\n",
       "    }\n",
       "\n",
       "    .dataframe thead th {\n",
       "        text-align: right;\n",
       "    }\n",
       "</style>\n",
       "<table border=\"1\" class=\"dataframe\">\n",
       "  <thead>\n",
       "    <tr style=\"text-align: right;\">\n",
       "      <th></th>\n",
       "      <th>SPY</th>\n",
       "    </tr>\n",
       "    <tr>\n",
       "      <th>Date</th>\n",
       "      <th></th>\n",
       "    </tr>\n",
       "  </thead>\n",
       "  <tbody>\n",
       "    <tr>\n",
       "      <th>1993-02-02</th>\n",
       "      <td>0.002117</td>\n",
       "    </tr>\n",
       "    <tr>\n",
       "      <th>1993-02-03</th>\n",
       "      <td>0.010515</td>\n",
       "    </tr>\n",
       "    <tr>\n",
       "      <th>1993-02-04</th>\n",
       "      <td>0.004175</td>\n",
       "    </tr>\n",
       "    <tr>\n",
       "      <th>1993-02-05</th>\n",
       "      <td>-0.000694</td>\n",
       "    </tr>\n",
       "    <tr>\n",
       "      <th>1993-02-08</th>\n",
       "      <td>0.000000</td>\n",
       "    </tr>\n",
       "    <tr>\n",
       "      <th>...</th>\n",
       "      <td>...</td>\n",
       "    </tr>\n",
       "    <tr>\n",
       "      <th>2007-12-21</th>\n",
       "      <td>0.014313</td>\n",
       "    </tr>\n",
       "    <tr>\n",
       "      <th>2007-12-24</th>\n",
       "      <td>0.007398</td>\n",
       "    </tr>\n",
       "    <tr>\n",
       "      <th>2007-12-26</th>\n",
       "      <td>0.002142</td>\n",
       "    </tr>\n",
       "    <tr>\n",
       "      <th>2007-12-27</th>\n",
       "      <td>-0.012651</td>\n",
       "    </tr>\n",
       "    <tr>\n",
       "      <th>2007-12-28</th>\n",
       "      <td>-0.002509</td>\n",
       "    </tr>\n",
       "  </tbody>\n",
       "</table>\n",
       "<p>3756 rows × 1 columns</p>\n",
       "</div>"
      ],
      "text/plain": [
       "                 SPY\n",
       "Date                \n",
       "1993-02-02  0.002117\n",
       "1993-02-03  0.010515\n",
       "1993-02-04  0.004175\n",
       "1993-02-05 -0.000694\n",
       "1993-02-08  0.000000\n",
       "...              ...\n",
       "2007-12-21  0.014313\n",
       "2007-12-24  0.007398\n",
       "2007-12-26  0.002142\n",
       "2007-12-27 -0.012651\n",
       "2007-12-28 -0.002509\n",
       "\n",
       "[3756 rows x 1 columns]"
      ]
     },
     "execution_count": 8,
     "metadata": {},
     "output_type": "execute_result"
    }
   ],
   "source": [
    "estrategias"
   ]
  },
  {
   "cell_type": "code",
   "execution_count": 9,
   "id": "37a67577-4c38-47c2-a55b-10fbab4367db",
   "metadata": {},
   "outputs": [],
   "source": [
    "estrategias['mes'] = (estrategias.index.month)"
   ]
  },
  {
   "cell_type": "code",
   "execution_count": 10,
   "id": "81d9a04c-53d6-4078-97a0-943e39722595",
   "metadata": {},
   "outputs": [
    {
     "data": {
      "text/html": [
       "<div>\n",
       "<style scoped>\n",
       "    .dataframe tbody tr th:only-of-type {\n",
       "        vertical-align: middle;\n",
       "    }\n",
       "\n",
       "    .dataframe tbody tr th {\n",
       "        vertical-align: top;\n",
       "    }\n",
       "\n",
       "    .dataframe thead th {\n",
       "        text-align: right;\n",
       "    }\n",
       "</style>\n",
       "<table border=\"1\" class=\"dataframe\">\n",
       "  <thead>\n",
       "    <tr style=\"text-align: right;\">\n",
       "      <th></th>\n",
       "      <th>SPY</th>\n",
       "      <th>mes</th>\n",
       "    </tr>\n",
       "    <tr>\n",
       "      <th>Date</th>\n",
       "      <th></th>\n",
       "      <th></th>\n",
       "    </tr>\n",
       "  </thead>\n",
       "  <tbody>\n",
       "    <tr>\n",
       "      <th>1993-02-02</th>\n",
       "      <td>0.002117</td>\n",
       "      <td>2</td>\n",
       "    </tr>\n",
       "    <tr>\n",
       "      <th>1993-02-03</th>\n",
       "      <td>0.010515</td>\n",
       "      <td>2</td>\n",
       "    </tr>\n",
       "    <tr>\n",
       "      <th>1993-02-04</th>\n",
       "      <td>0.004175</td>\n",
       "      <td>2</td>\n",
       "    </tr>\n",
       "    <tr>\n",
       "      <th>1993-02-05</th>\n",
       "      <td>-0.000694</td>\n",
       "      <td>2</td>\n",
       "    </tr>\n",
       "    <tr>\n",
       "      <th>1993-02-08</th>\n",
       "      <td>0.000000</td>\n",
       "      <td>2</td>\n",
       "    </tr>\n",
       "    <tr>\n",
       "      <th>...</th>\n",
       "      <td>...</td>\n",
       "      <td>...</td>\n",
       "    </tr>\n",
       "    <tr>\n",
       "      <th>2007-12-21</th>\n",
       "      <td>0.014313</td>\n",
       "      <td>12</td>\n",
       "    </tr>\n",
       "    <tr>\n",
       "      <th>2007-12-24</th>\n",
       "      <td>0.007398</td>\n",
       "      <td>12</td>\n",
       "    </tr>\n",
       "    <tr>\n",
       "      <th>2007-12-26</th>\n",
       "      <td>0.002142</td>\n",
       "      <td>12</td>\n",
       "    </tr>\n",
       "    <tr>\n",
       "      <th>2007-12-27</th>\n",
       "      <td>-0.012651</td>\n",
       "      <td>12</td>\n",
       "    </tr>\n",
       "    <tr>\n",
       "      <th>2007-12-28</th>\n",
       "      <td>-0.002509</td>\n",
       "      <td>12</td>\n",
       "    </tr>\n",
       "  </tbody>\n",
       "</table>\n",
       "<p>3756 rows × 2 columns</p>\n",
       "</div>"
      ],
      "text/plain": [
       "                 SPY  mes\n",
       "Date                     \n",
       "1993-02-02  0.002117    2\n",
       "1993-02-03  0.010515    2\n",
       "1993-02-04  0.004175    2\n",
       "1993-02-05 -0.000694    2\n",
       "1993-02-08  0.000000    2\n",
       "...              ...  ...\n",
       "2007-12-21  0.014313   12\n",
       "2007-12-24  0.007398   12\n",
       "2007-12-26  0.002142   12\n",
       "2007-12-27 -0.012651   12\n",
       "2007-12-28 -0.002509   12\n",
       "\n",
       "[3756 rows x 2 columns]"
      ]
     },
     "execution_count": 10,
     "metadata": {},
     "output_type": "execute_result"
    }
   ],
   "source": [
    "estrategias"
   ]
  },
  {
   "cell_type": "code",
   "execution_count": 11,
   "id": "e7921191",
   "metadata": {},
   "outputs": [],
   "source": [
    "estrategias['dentro'] = np.where((estrategias.mes <5) | (estrategias.mes >10),1,0)"
   ]
  },
  {
   "cell_type": "code",
   "execution_count": 12,
   "id": "79285d32-c9df-4af3-853f-364826676892",
   "metadata": {},
   "outputs": [],
   "source": [
    "\n",
    "estrategias['est_act'] = estrategias.SPY * estrategias.dentro"
   ]
  },
  {
   "cell_type": "code",
   "execution_count": 13,
   "id": "4baaa7b1-db27-48ff-aa71-aecaf9b1ab05",
   "metadata": {},
   "outputs": [
    {
     "data": {
      "text/html": [
       "<div>\n",
       "<style scoped>\n",
       "    .dataframe tbody tr th:only-of-type {\n",
       "        vertical-align: middle;\n",
       "    }\n",
       "\n",
       "    .dataframe tbody tr th {\n",
       "        vertical-align: top;\n",
       "    }\n",
       "\n",
       "    .dataframe thead th {\n",
       "        text-align: right;\n",
       "    }\n",
       "</style>\n",
       "<table border=\"1\" class=\"dataframe\">\n",
       "  <thead>\n",
       "    <tr style=\"text-align: right;\">\n",
       "      <th></th>\n",
       "      <th>SPY</th>\n",
       "      <th>mes</th>\n",
       "      <th>dentro</th>\n",
       "      <th>est_act</th>\n",
       "    </tr>\n",
       "    <tr>\n",
       "      <th>Date</th>\n",
       "      <th></th>\n",
       "      <th></th>\n",
       "      <th></th>\n",
       "      <th></th>\n",
       "    </tr>\n",
       "  </thead>\n",
       "  <tbody>\n",
       "    <tr>\n",
       "      <th>2007-09-20</th>\n",
       "      <td>-0.007067</td>\n",
       "      <td>9</td>\n",
       "      <td>0</td>\n",
       "      <td>-0.000000</td>\n",
       "    </tr>\n",
       "    <tr>\n",
       "      <th>2007-09-21</th>\n",
       "      <td>0.002695</td>\n",
       "      <td>9</td>\n",
       "      <td>0</td>\n",
       "      <td>0.000000</td>\n",
       "    </tr>\n",
       "    <tr>\n",
       "      <th>2007-09-24</th>\n",
       "      <td>-0.001844</td>\n",
       "      <td>9</td>\n",
       "      <td>0</td>\n",
       "      <td>-0.000000</td>\n",
       "    </tr>\n",
       "    <tr>\n",
       "      <th>2007-09-25</th>\n",
       "      <td>-0.001979</td>\n",
       "      <td>9</td>\n",
       "      <td>0</td>\n",
       "      <td>-0.000000</td>\n",
       "    </tr>\n",
       "    <tr>\n",
       "      <th>2007-09-26</th>\n",
       "      <td>0.005270</td>\n",
       "      <td>9</td>\n",
       "      <td>0</td>\n",
       "      <td>0.000000</td>\n",
       "    </tr>\n",
       "    <tr>\n",
       "      <th>...</th>\n",
       "      <td>...</td>\n",
       "      <td>...</td>\n",
       "      <td>...</td>\n",
       "      <td>...</td>\n",
       "    </tr>\n",
       "    <tr>\n",
       "      <th>2007-12-21</th>\n",
       "      <td>0.014313</td>\n",
       "      <td>12</td>\n",
       "      <td>1</td>\n",
       "      <td>0.014313</td>\n",
       "    </tr>\n",
       "    <tr>\n",
       "      <th>2007-12-24</th>\n",
       "      <td>0.007398</td>\n",
       "      <td>12</td>\n",
       "      <td>1</td>\n",
       "      <td>0.007398</td>\n",
       "    </tr>\n",
       "    <tr>\n",
       "      <th>2007-12-26</th>\n",
       "      <td>0.002142</td>\n",
       "      <td>12</td>\n",
       "      <td>1</td>\n",
       "      <td>0.002142</td>\n",
       "    </tr>\n",
       "    <tr>\n",
       "      <th>2007-12-27</th>\n",
       "      <td>-0.012651</td>\n",
       "      <td>12</td>\n",
       "      <td>1</td>\n",
       "      <td>-0.012651</td>\n",
       "    </tr>\n",
       "    <tr>\n",
       "      <th>2007-12-28</th>\n",
       "      <td>-0.002509</td>\n",
       "      <td>12</td>\n",
       "      <td>1</td>\n",
       "      <td>-0.002509</td>\n",
       "    </tr>\n",
       "  </tbody>\n",
       "</table>\n",
       "<p>70 rows × 4 columns</p>\n",
       "</div>"
      ],
      "text/plain": [
       "                 SPY  mes  dentro   est_act\n",
       "Date                                       \n",
       "2007-09-20 -0.007067    9       0 -0.000000\n",
       "2007-09-21  0.002695    9       0  0.000000\n",
       "2007-09-24 -0.001844    9       0 -0.000000\n",
       "2007-09-25 -0.001979    9       0 -0.000000\n",
       "2007-09-26  0.005270    9       0  0.000000\n",
       "...              ...  ...     ...       ...\n",
       "2007-12-21  0.014313   12       1  0.014313\n",
       "2007-12-24  0.007398   12       1  0.007398\n",
       "2007-12-26  0.002142   12       1  0.002142\n",
       "2007-12-27 -0.012651   12       1 -0.012651\n",
       "2007-12-28 -0.002509   12       1 -0.002509\n",
       "\n",
       "[70 rows x 4 columns]"
      ]
     },
     "execution_count": 13,
     "metadata": {},
     "output_type": "execute_result"
    }
   ],
   "source": [
    "estrategias.tail(70)"
   ]
  },
  {
   "cell_type": "code",
   "execution_count": 14,
   "id": "570e3cd4-7249-456b-9b03-9fdf733fe98b",
   "metadata": {},
   "outputs": [],
   "source": [
    "estrategias.drop(['mes','dentro'],axis=1,inplace=True)"
   ]
  },
  {
   "cell_type": "code",
   "execution_count": 15,
   "id": "4ca1fbf3-0d53-4d37-86f7-3def768e9464",
   "metadata": {},
   "outputs": [
    {
     "data": {
      "text/plain": [
       "<AxesSubplot:xlabel='Date'>"
      ]
     },
     "execution_count": 15,
     "metadata": {},
     "output_type": "execute_result"
    },
    {
     "data": {
      "image/png": "[encoded data removed]",
      "text/plain": [
       "<Figure size 640x480 with 1 Axes>"
      ]
     },
     "metadata": {},
     "output_type": "display_data"
    }
   ],
   "source": [
    "(estrategias / estrategias.iloc[0] * 100).plot()"
   ]
  },
  {
   "cell_type": "code",
   "execution_count": 16,
   "id": "0a49c0fe-27d5-47c4-acc9-e22a687178fc",
   "metadata": {},
   "outputs": [
    {
     "data": {
      "text/plain": [
       "SPY        1.463328\n",
       "est_act    0.974347\n",
       "dtype: float64"
      ]
     },
     "execution_count": 16,
     "metadata": {},
     "output_type": "execute_result"
    }
   ],
   "source": [
    "estrategias.sum()"
   ]
  },
  {
   "cell_type": "code",
   "execution_count": 17,
   "id": "7223ed05-b19c-4059-a491-6a1b595a2113",
   "metadata": {
    "tags": []
   },
   "outputs": [],
   "source": [
    "import statsmodels.api as sm\n",
    "import statsmodels.stats.api as sms"
   ]
  },
  {
   "cell_type": "code",
   "execution_count": 18,
   "id": "fd7326b4-67e9-4513-a68e-4812ad634c98",
   "metadata": {},
   "outputs": [],
   "source": [
    "#model = sm.OLS(estrategias.est_act, sm.add_constant(estrategias.SPY),missing='drop')\n",
    "model = sm.OLS(estrategias.SPY, sm.add_constant(estrategias.est_act),missing='drop')"
   ]
  },
  {
   "cell_type": "code",
   "execution_count": 19,
   "id": "368228be-dde5-48da-9490-64fad2944590",
   "metadata": {},
   "outputs": [
    {
     "data": {
      "text/plain": [
       "statsmodels.regression.linear_model.OLS"
      ]
     },
     "execution_count": 19,
     "metadata": {},
     "output_type": "execute_result"
    }
   ],
   "source": [
    "type(model)"
   ]
  },
  {
   "cell_type": "code",
   "execution_count": 20,
   "id": "164f427d-769d-476c-a514-62e92fdd1033",
   "metadata": {},
   "outputs": [],
   "source": [
    "result = model.fit()"
   ]
  },
  {
   "cell_type": "code",
   "execution_count": 21,
   "id": "16f45f16-c957-4e19-87bb-abcf9ae4f5ca",
   "metadata": {},
   "outputs": [
    {
     "name": "stdout",
     "output_type": "stream",
     "text": [
      "                            OLS Regression Results                            \n",
      "==============================================================================\n",
      "Dep. Variable:                    SPY   R-squared:                       0.460\n",
      "Model:                            OLS   Adj. R-squared:                  0.459\n",
      "Method:                 Least Squares   F-statistic:                     3193.\n",
      "Date:                Sat, 02 Sep 2023   Prob (F-statistic):               0.00\n",
      "Time:                        18:43:13   Log-Likelihood:                 12885.\n",
      "No. Observations:                3756   AIC:                        -2.577e+04\n",
      "Df Residuals:                    3754   BIC:                        -2.575e+04\n",
      "Df Model:                           1                                         \n",
      "Covariance Type:            nonrobust                                         \n",
      "==============================================================================\n",
      "                 coef    std err          t      P>|t|      [0.025      0.975]\n",
      "------------------------------------------------------------------------------\n",
      "const          0.0001      0.000      1.019      0.308      -0.000       0.000\n",
      "est_act        0.9994      0.018     56.504      0.000       0.965       1.034\n",
      "==============================================================================\n",
      "Omnibus:                      775.647   Durbin-Watson:                   2.089\n",
      "Prob(Omnibus):                  0.000   Jarque-Bera (JB):            24939.932\n",
      "Skew:                          -0.194   Prob(JB):                         0.00\n",
      "Kurtosis:                      15.618   Cond. No.                         138.\n",
      "==============================================================================\n",
      "\n",
      "Notes:\n",
      "[1] Standard Errors assume that the covariance matrix of the errors is correctly specified.\n"
     ]
    }
   ],
   "source": [
    "print(result.summary())"
   ]
  },
  {
   "cell_type": "code",
   "execution_count": 22,
   "id": "b01b703c-f29a-4f4b-81e2-a144f9d7a4c1",
   "metadata": {},
   "outputs": [
    {
     "data": {
      "text/plain": [
       "SPY        0.010656\n",
       "est_act    0.007229\n",
       "dtype: float64"
      ]
     },
     "execution_count": 22,
     "metadata": {},
     "output_type": "execute_result"
    }
   ],
   "source": [
    "estrategias.std()"
   ]
  },
  {
   "cell_type": "code",
   "execution_count": 23,
   "id": "8bfd3c19-b364-4dd3-9147-f56d07bf1ae6",
   "metadata": {},
   "outputs": [
    {
     "data": {
      "text/plain": [
       "0.010425310984803036"
      ]
     },
     "execution_count": 23,
     "metadata": {},
     "output_type": "execute_result"
    }
   ],
   "source": [
    "\n",
    "estrategias.est_act[estrategias.est_act != 0].std()"
   ]
  },
  {
   "cell_type": "markdown",
   "id": "c6ce4819-a981-45b8-92a0-e423f37cbcad",
   "metadata": {},
   "source": [
    "estrategias.SPY"
   ]
  },
  {
   "cell_type": "code",
   "execution_count": 24,
   "id": "c0a9143f-8c6d-4129-9a2b-e3e32ced3c72",
   "metadata": {},
   "outputs": [
    {
     "data": {
      "text/plain": [
       "0.03655966950791912"
      ]
     },
     "execution_count": 24,
     "metadata": {},
     "output_type": "execute_result"
    }
   ],
   "source": [
    "rs_SPY=estrategias.SPY.mean() / estrategias.SPY.std()\n",
    "rs_SPY"
   ]
  },
  {
   "cell_type": "code",
   "execution_count": 25,
   "id": "1eda204b-136a-4060-a9d4-bec17ac097e1",
   "metadata": {},
   "outputs": [
    {
     "data": {
      "text/plain": [
       "0.035884221234398356"
      ]
     },
     "execution_count": 25,
     "metadata": {},
     "output_type": "execute_result"
    }
   ],
   "source": [
    "rs_est_act=estrategias.est_act.mean() / estrategias.est_act.std()\n",
    "rs_est_act"
   ]
  }
 ],
 "metadata": {
  "kernelspec": {
   "display_name": "Python 3 (ipykernel)",
   "language": "python",
   "name": "python3"
  },
  "language_info": {
   "codemirror_mode": {
    "name": "ipython",
    "version": 3
   },
   "file_extension": ".py",
   "mimetype": "text/x-python",
   "name": "python",
   "nbconvert_exporter": "python",
   "pygments_lexer": "ipython3",
   "version": "3.9.13"
  }
 },
 "nbformat": 4,
 "nbformat_minor": 5
}

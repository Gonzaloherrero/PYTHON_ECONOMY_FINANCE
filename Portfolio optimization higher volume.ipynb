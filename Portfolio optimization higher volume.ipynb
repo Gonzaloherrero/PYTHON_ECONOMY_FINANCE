{
 "cells": [
  {
   "cell_type": "markdown",
   "id": "55068cf3",
   "metadata": {},
   "source": [
    "# PORTFOLIO OPTIMO (MARKOWITZ)\n"
   ]
  },
  {
   "cell_type": "code",
   "execution_count": 1,
   "id": "8b234d18",
   "metadata": {
    "tags": []
   },
   "outputs": [],
   "source": [
    "import pandas as pd\n",
    "import numpy as np\n",
    "import statsmodels.api as sm\n",
    "import matplotlib.pyplot as plt\n",
    "import yfinance as yf"
   ]
  },
  {
   "cell_type": "code",
   "execution_count": 2,
   "id": "b5b53b37",
   "metadata": {},
   "outputs": [],
   "source": [
    "import time\n",
    "import datetime as dt\n",
    "\n",
    "start = '2016-01-01'\n",
    "end =   '2022-01-31'\n",
    "\n"
   ]
  },
  {
   "cell_type": "code",
   "execution_count": 3,
   "id": "54eecb94-917c-4b23-bc9e-7930b6d51d4a",
   "metadata": {},
   "outputs": [],
   "source": [
    "tic = pd.read_html('https://en.wikipedia.org/wiki/List_of_S%26P_500_companies')[0]"
   ]
  },
  {
   "cell_type": "code",
   "execution_count": 4,
   "id": "edfd8a71-c2f7-44dd-bb3e-65f01fa8fb30",
   "metadata": {},
   "outputs": [
    {
     "data": {
      "text/html": [
       "<div>\n",
       "<style scoped>\n",
       "    .dataframe tbody tr th:only-of-type {\n",
       "        vertical-align: middle;\n",
       "    }\n",
       "\n",
       "    .dataframe tbody tr th {\n",
       "        vertical-align: top;\n",
       "    }\n",
       "\n",
       "    .dataframe thead th {\n",
       "        text-align: right;\n",
       "    }\n",
       "</style>\n",
       "<table border=\"1\" class=\"dataframe\">\n",
       "  <thead>\n",
       "    <tr style=\"text-align: right;\">\n",
       "      <th></th>\n",
       "      <th>Symbol</th>\n",
       "      <th>Security</th>\n",
       "      <th>GICS Sector</th>\n",
       "      <th>GICS Sub-Industry</th>\n",
       "      <th>Headquarters Location</th>\n",
       "      <th>Date added</th>\n",
       "      <th>CIK</th>\n",
       "      <th>Founded</th>\n",
       "    </tr>\n",
       "  </thead>\n",
       "  <tbody>\n",
       "    <tr>\n",
       "      <th>0</th>\n",
       "      <td>MMM</td>\n",
       "      <td>3M</td>\n",
       "      <td>Industrials</td>\n",
       "      <td>Industrial Conglomerates</td>\n",
       "      <td>Saint Paul, Minnesota</td>\n",
       "      <td>1957-03-04</td>\n",
       "      <td>66740</td>\n",
       "      <td>1902</td>\n",
       "    </tr>\n",
       "    <tr>\n",
       "      <th>1</th>\n",
       "      <td>AOS</td>\n",
       "      <td>A. O. Smith</td>\n",
       "      <td>Industrials</td>\n",
       "      <td>Building Products</td>\n",
       "      <td>Milwaukee, Wisconsin</td>\n",
       "      <td>2017-07-26</td>\n",
       "      <td>91142</td>\n",
       "      <td>1916</td>\n",
       "    </tr>\n",
       "    <tr>\n",
       "      <th>2</th>\n",
       "      <td>ABT</td>\n",
       "      <td>Abbott</td>\n",
       "      <td>Health Care</td>\n",
       "      <td>Health Care Equipment</td>\n",
       "      <td>North Chicago, Illinois</td>\n",
       "      <td>1957-03-04</td>\n",
       "      <td>1800</td>\n",
       "      <td>1888</td>\n",
       "    </tr>\n",
       "    <tr>\n",
       "      <th>3</th>\n",
       "      <td>ABBV</td>\n",
       "      <td>AbbVie</td>\n",
       "      <td>Health Care</td>\n",
       "      <td>Pharmaceuticals</td>\n",
       "      <td>North Chicago, Illinois</td>\n",
       "      <td>2012-12-31</td>\n",
       "      <td>1551152</td>\n",
       "      <td>2013 (1888)</td>\n",
       "    </tr>\n",
       "    <tr>\n",
       "      <th>4</th>\n",
       "      <td>ACN</td>\n",
       "      <td>Accenture</td>\n",
       "      <td>Information Technology</td>\n",
       "      <td>IT Consulting &amp; Other Services</td>\n",
       "      <td>Dublin, Ireland</td>\n",
       "      <td>2011-07-06</td>\n",
       "      <td>1467373</td>\n",
       "      <td>1989</td>\n",
       "    </tr>\n",
       "    <tr>\n",
       "      <th>...</th>\n",
       "      <td>...</td>\n",
       "      <td>...</td>\n",
       "      <td>...</td>\n",
       "      <td>...</td>\n",
       "      <td>...</td>\n",
       "      <td>...</td>\n",
       "      <td>...</td>\n",
       "      <td>...</td>\n",
       "    </tr>\n",
       "    <tr>\n",
       "      <th>497</th>\n",
       "      <td>YUM</td>\n",
       "      <td>Yum! Brands</td>\n",
       "      <td>Consumer Discretionary</td>\n",
       "      <td>Restaurants</td>\n",
       "      <td>Louisville, Kentucky</td>\n",
       "      <td>1997-10-06</td>\n",
       "      <td>1041061</td>\n",
       "      <td>1997</td>\n",
       "    </tr>\n",
       "    <tr>\n",
       "      <th>498</th>\n",
       "      <td>ZBRA</td>\n",
       "      <td>Zebra Technologies</td>\n",
       "      <td>Information Technology</td>\n",
       "      <td>Electronic Equipment &amp; Instruments</td>\n",
       "      <td>Lincolnshire, Illinois</td>\n",
       "      <td>2019-12-23</td>\n",
       "      <td>877212</td>\n",
       "      <td>1969</td>\n",
       "    </tr>\n",
       "    <tr>\n",
       "      <th>499</th>\n",
       "      <td>ZBH</td>\n",
       "      <td>Zimmer Biomet</td>\n",
       "      <td>Health Care</td>\n",
       "      <td>Health Care Equipment</td>\n",
       "      <td>Warsaw, Indiana</td>\n",
       "      <td>2001-08-07</td>\n",
       "      <td>1136869</td>\n",
       "      <td>1927</td>\n",
       "    </tr>\n",
       "    <tr>\n",
       "      <th>500</th>\n",
       "      <td>ZION</td>\n",
       "      <td>Zions Bancorporation</td>\n",
       "      <td>Financials</td>\n",
       "      <td>Regional Banks</td>\n",
       "      <td>Salt Lake City, Utah</td>\n",
       "      <td>2001-06-22</td>\n",
       "      <td>109380</td>\n",
       "      <td>1873</td>\n",
       "    </tr>\n",
       "    <tr>\n",
       "      <th>501</th>\n",
       "      <td>ZTS</td>\n",
       "      <td>Zoetis</td>\n",
       "      <td>Health Care</td>\n",
       "      <td>Pharmaceuticals</td>\n",
       "      <td>Parsippany, New Jersey</td>\n",
       "      <td>2013-06-21</td>\n",
       "      <td>1555280</td>\n",
       "      <td>1952</td>\n",
       "    </tr>\n",
       "  </tbody>\n",
       "</table>\n",
       "<p>502 rows × 8 columns</p>\n",
       "</div>"
      ],
      "text/plain": [
       "    Symbol              Security             GICS Sector  \\\n",
       "0      MMM                    3M             Industrials   \n",
       "1      AOS           A. O. Smith             Industrials   \n",
       "2      ABT                Abbott             Health Care   \n",
       "3     ABBV                AbbVie             Health Care   \n",
       "4      ACN             Accenture  Information Technology   \n",
       "..     ...                   ...                     ...   \n",
       "497    YUM           Yum! Brands  Consumer Discretionary   \n",
       "498   ZBRA    Zebra Technologies  Information Technology   \n",
       "499    ZBH         Zimmer Biomet             Health Care   \n",
       "500   ZION  Zions Bancorporation              Financials   \n",
       "501    ZTS                Zoetis             Health Care   \n",
       "\n",
       "                      GICS Sub-Industry    Headquarters Location  Date added  \\\n",
       "0              Industrial Conglomerates    Saint Paul, Minnesota  1957-03-04   \n",
       "1                     Building Products     Milwaukee, Wisconsin  2017-07-26   \n",
       "2                 Health Care Equipment  North Chicago, Illinois  1957-03-04   \n",
       "3                       Pharmaceuticals  North Chicago, Illinois  2012-12-31   \n",
       "4        IT Consulting & Other Services          Dublin, Ireland  2011-07-06   \n",
       "..                                  ...                      ...         ...   \n",
       "497                         Restaurants     Louisville, Kentucky  1997-10-06   \n",
       "498  Electronic Equipment & Instruments   Lincolnshire, Illinois  2019-12-23   \n",
       "499               Health Care Equipment          Warsaw, Indiana  2001-08-07   \n",
       "500                      Regional Banks     Salt Lake City, Utah  2001-06-22   \n",
       "501                     Pharmaceuticals   Parsippany, New Jersey  2013-06-21   \n",
       "\n",
       "         CIK      Founded  \n",
       "0      66740         1902  \n",
       "1      91142         1916  \n",
       "2       1800         1888  \n",
       "3    1551152  2013 (1888)  \n",
       "4    1467373         1989  \n",
       "..       ...          ...  \n",
       "497  1041061         1997  \n",
       "498   877212         1969  \n",
       "499  1136869         1927  \n",
       "500   109380         1873  \n",
       "501  1555280         1952  \n",
       "\n",
       "[502 rows x 8 columns]"
      ]
     },
     "execution_count": 4,
     "metadata": {},
     "output_type": "execute_result"
    }
   ],
   "source": [
    "tic"
   ]
  },
  {
   "cell_type": "code",
   "execution_count": 5,
   "id": "5bf04339-920c-4d46-94de-d697f036b047",
   "metadata": {},
   "outputs": [],
   "source": [
    "tickers = list(tic.Symbol)"
   ]
  },
  {
   "cell_type": "code",
   "execution_count": 6,
   "id": "b084c35f",
   "metadata": {},
   "outputs": [
    {
     "name": "stdout",
     "output_type": "stream",
     "text": [
      "[*********************100%***********************]  502 of 502 completed\n",
      "\n",
      "4 Failed downloads:\n",
      "- BRK.B: No timezone found, symbol may be delisted\n",
      "- BF.B: No data found for this date range, symbol may be delisted\n",
      "- KVUE: Data doesn't exist for startDate = 1451624400, endDate = 1643605200\n",
      "- GEHC: Data doesn't exist for startDate = 1451624400, endDate = 1643605200\n"
     ]
    }
   ],
   "source": [
    "\n",
    "#tickers = ['AAPL','BAC','CSCO','DIS','EDN','F','GGAL','HPE','SPY']\n",
    "#tickers = ['EDN','GGAL','PAMP.BA','GRIM.BA']\n",
    "#tickers = ['AAPL','BAC','CSCO','DIS']\n",
    "#tickers = ['AAPL','MSFT','SPY','GLD']\n",
    "#tickers = ['X' , 'KO' , 'GGAL' , 'GLD' , 'BABA']\n",
    "\n",
    "#start = '2017-01-03'\n",
    "#end = '2020-01-03'\n",
    "data = yf.download(tickers,start,end)['Volume']\n",
    "#data = yf.download(tickers,start)\n",
    "#data = data['Adj Close'].dropna()\n",
    "\n"
   ]
  },
  {
   "cell_type": "code",
   "execution_count": 7,
   "id": "335197e4-dfe7-4cbe-968e-14462bee0eab",
   "metadata": {},
   "outputs": [
    {
     "data": {
      "text/html": [
       "<div>\n",
       "<style scoped>\n",
       "    .dataframe tbody tr th:only-of-type {\n",
       "        vertical-align: middle;\n",
       "    }\n",
       "\n",
       "    .dataframe tbody tr th {\n",
       "        vertical-align: top;\n",
       "    }\n",
       "\n",
       "    .dataframe thead th {\n",
       "        text-align: right;\n",
       "    }\n",
       "</style>\n",
       "<table border=\"1\" class=\"dataframe\">\n",
       "  <thead>\n",
       "    <tr style=\"text-align: right;\">\n",
       "      <th></th>\n",
       "      <th>A</th>\n",
       "      <th>AAL</th>\n",
       "      <th>AAPL</th>\n",
       "      <th>ABBV</th>\n",
       "      <th>ABT</th>\n",
       "      <th>ACGL</th>\n",
       "      <th>ACN</th>\n",
       "      <th>ADBE</th>\n",
       "      <th>ADI</th>\n",
       "      <th>ADM</th>\n",
       "      <th>...</th>\n",
       "      <th>WYNN</th>\n",
       "      <th>XEL</th>\n",
       "      <th>XOM</th>\n",
       "      <th>XRAY</th>\n",
       "      <th>XYL</th>\n",
       "      <th>YUM</th>\n",
       "      <th>ZBH</th>\n",
       "      <th>ZBRA</th>\n",
       "      <th>ZION</th>\n",
       "      <th>ZTS</th>\n",
       "    </tr>\n",
       "    <tr>\n",
       "      <th>Date</th>\n",
       "      <th></th>\n",
       "      <th></th>\n",
       "      <th></th>\n",
       "      <th></th>\n",
       "      <th></th>\n",
       "      <th></th>\n",
       "      <th></th>\n",
       "      <th></th>\n",
       "      <th></th>\n",
       "      <th></th>\n",
       "      <th></th>\n",
       "      <th></th>\n",
       "      <th></th>\n",
       "      <th></th>\n",
       "      <th></th>\n",
       "      <th></th>\n",
       "      <th></th>\n",
       "      <th></th>\n",
       "      <th></th>\n",
       "      <th></th>\n",
       "      <th></th>\n",
       "    </tr>\n",
       "  </thead>\n",
       "  <tbody>\n",
       "    <tr>\n",
       "      <th>2016-01-04</th>\n",
       "      <td>3287300</td>\n",
       "      <td>12037200</td>\n",
       "      <td>270597600</td>\n",
       "      <td>10308400</td>\n",
       "      <td>12227500</td>\n",
       "      <td>1220700</td>\n",
       "      <td>2817000</td>\n",
       "      <td>2993800</td>\n",
       "      <td>2648900</td>\n",
       "      <td>4040800</td>\n",
       "      <td>...</td>\n",
       "      <td>4249800</td>\n",
       "      <td>2819300</td>\n",
       "      <td>20400100</td>\n",
       "      <td>1387100</td>\n",
       "      <td>1353400</td>\n",
       "      <td>4821623</td>\n",
       "      <td>2104084</td>\n",
       "      <td>656200</td>\n",
       "      <td>3523300</td>\n",
       "      <td>2871700</td>\n",
       "    </tr>\n",
       "    <tr>\n",
       "      <th>2016-01-05</th>\n",
       "      <td>2587200</td>\n",
       "      <td>10514200</td>\n",
       "      <td>223164000</td>\n",
       "      <td>7179600</td>\n",
       "      <td>8245200</td>\n",
       "      <td>1497600</td>\n",
       "      <td>2409000</td>\n",
       "      <td>1821300</td>\n",
       "      <td>2689500</td>\n",
       "      <td>3863200</td>\n",
       "      <td>...</td>\n",
       "      <td>4286100</td>\n",
       "      <td>2141200</td>\n",
       "      <td>11993500</td>\n",
       "      <td>1611200</td>\n",
       "      <td>1075400</td>\n",
       "      <td>5273420</td>\n",
       "      <td>2294737</td>\n",
       "      <td>611300</td>\n",
       "      <td>2653600</td>\n",
       "      <td>3116700</td>\n",
       "    </tr>\n",
       "    <tr>\n",
       "      <th>2016-01-06</th>\n",
       "      <td>2103600</td>\n",
       "      <td>12393800</td>\n",
       "      <td>273829600</td>\n",
       "      <td>8952700</td>\n",
       "      <td>5906000</td>\n",
       "      <td>2013000</td>\n",
       "      <td>3134200</td>\n",
       "      <td>1674000</td>\n",
       "      <td>3779700</td>\n",
       "      <td>6072600</td>\n",
       "      <td>...</td>\n",
       "      <td>3316100</td>\n",
       "      <td>5191900</td>\n",
       "      <td>18826900</td>\n",
       "      <td>1179700</td>\n",
       "      <td>1866000</td>\n",
       "      <td>5049330</td>\n",
       "      <td>2751233</td>\n",
       "      <td>881900</td>\n",
       "      <td>4164200</td>\n",
       "      <td>4670500</td>\n",
       "    </tr>\n",
       "    <tr>\n",
       "      <th>2016-01-07</th>\n",
       "      <td>3504300</td>\n",
       "      <td>11312900</td>\n",
       "      <td>324377600</td>\n",
       "      <td>9292600</td>\n",
       "      <td>7151400</td>\n",
       "      <td>1418100</td>\n",
       "      <td>3194700</td>\n",
       "      <td>2717800</td>\n",
       "      <td>5163000</td>\n",
       "      <td>4820500</td>\n",
       "      <td>...</td>\n",
       "      <td>5525600</td>\n",
       "      <td>5212200</td>\n",
       "      <td>21263800</td>\n",
       "      <td>1140400</td>\n",
       "      <td>1555400</td>\n",
       "      <td>11005453</td>\n",
       "      <td>1829589</td>\n",
       "      <td>1210600</td>\n",
       "      <td>4234000</td>\n",
       "      <td>4324400</td>\n",
       "    </tr>\n",
       "    <tr>\n",
       "      <th>2016-01-08</th>\n",
       "      <td>3736700</td>\n",
       "      <td>8853100</td>\n",
       "      <td>283192000</td>\n",
       "      <td>7985200</td>\n",
       "      <td>7477700</td>\n",
       "      <td>1323300</td>\n",
       "      <td>2330200</td>\n",
       "      <td>2263400</td>\n",
       "      <td>3805200</td>\n",
       "      <td>4130700</td>\n",
       "      <td>...</td>\n",
       "      <td>5740000</td>\n",
       "      <td>3005400</td>\n",
       "      <td>19033600</td>\n",
       "      <td>1233700</td>\n",
       "      <td>1471500</td>\n",
       "      <td>5996184</td>\n",
       "      <td>1670969</td>\n",
       "      <td>1034700</td>\n",
       "      <td>3401600</td>\n",
       "      <td>4946100</td>\n",
       "    </tr>\n",
       "    <tr>\n",
       "      <th>...</th>\n",
       "      <td>...</td>\n",
       "      <td>...</td>\n",
       "      <td>...</td>\n",
       "      <td>...</td>\n",
       "      <td>...</td>\n",
       "      <td>...</td>\n",
       "      <td>...</td>\n",
       "      <td>...</td>\n",
       "      <td>...</td>\n",
       "      <td>...</td>\n",
       "      <td>...</td>\n",
       "      <td>...</td>\n",
       "      <td>...</td>\n",
       "      <td>...</td>\n",
       "      <td>...</td>\n",
       "      <td>...</td>\n",
       "      <td>...</td>\n",
       "      <td>...</td>\n",
       "      <td>...</td>\n",
       "      <td>...</td>\n",
       "      <td>...</td>\n",
       "    </tr>\n",
       "    <tr>\n",
       "      <th>2022-01-24</th>\n",
       "      <td>2155300</td>\n",
       "      <td>59941000</td>\n",
       "      <td>162294600</td>\n",
       "      <td>13733800</td>\n",
       "      <td>10864500</td>\n",
       "      <td>2056600</td>\n",
       "      <td>4544500</td>\n",
       "      <td>7538000</td>\n",
       "      <td>6665200</td>\n",
       "      <td>4235400</td>\n",
       "      <td>...</td>\n",
       "      <td>5484500</td>\n",
       "      <td>4502300</td>\n",
       "      <td>41507000</td>\n",
       "      <td>1739500</td>\n",
       "      <td>1501200</td>\n",
       "      <td>2927300</td>\n",
       "      <td>2113045</td>\n",
       "      <td>853600</td>\n",
       "      <td>2327900</td>\n",
       "      <td>4093400</td>\n",
       "    </tr>\n",
       "    <tr>\n",
       "      <th>2022-01-25</th>\n",
       "      <td>1705300</td>\n",
       "      <td>42471600</td>\n",
       "      <td>115798400</td>\n",
       "      <td>10296500</td>\n",
       "      <td>9126600</td>\n",
       "      <td>1703900</td>\n",
       "      <td>3625400</td>\n",
       "      <td>4051500</td>\n",
       "      <td>4064200</td>\n",
       "      <td>4188200</td>\n",
       "      <td>...</td>\n",
       "      <td>3114200</td>\n",
       "      <td>4756500</td>\n",
       "      <td>39278400</td>\n",
       "      <td>1785600</td>\n",
       "      <td>1636300</td>\n",
       "      <td>2667400</td>\n",
       "      <td>2417410</td>\n",
       "      <td>537900</td>\n",
       "      <td>3832600</td>\n",
       "      <td>2673200</td>\n",
       "    </tr>\n",
       "    <tr>\n",
       "      <th>2022-01-26</th>\n",
       "      <td>1999500</td>\n",
       "      <td>39331800</td>\n",
       "      <td>108275300</td>\n",
       "      <td>8040300</td>\n",
       "      <td>14753100</td>\n",
       "      <td>1647800</td>\n",
       "      <td>4422200</td>\n",
       "      <td>4449500</td>\n",
       "      <td>5850000</td>\n",
       "      <td>6153400</td>\n",
       "      <td>...</td>\n",
       "      <td>3153000</td>\n",
       "      <td>4062100</td>\n",
       "      <td>35252400</td>\n",
       "      <td>1560900</td>\n",
       "      <td>1233300</td>\n",
       "      <td>1958600</td>\n",
       "      <td>2914591</td>\n",
       "      <td>592500</td>\n",
       "      <td>2315800</td>\n",
       "      <td>4532700</td>\n",
       "    </tr>\n",
       "    <tr>\n",
       "      <th>2022-01-27</th>\n",
       "      <td>1715800</td>\n",
       "      <td>43507400</td>\n",
       "      <td>121954600</td>\n",
       "      <td>8869100</td>\n",
       "      <td>9179500</td>\n",
       "      <td>1926400</td>\n",
       "      <td>2778000</td>\n",
       "      <td>5865400</td>\n",
       "      <td>4691100</td>\n",
       "      <td>8203000</td>\n",
       "      <td>...</td>\n",
       "      <td>2870400</td>\n",
       "      <td>4442200</td>\n",
       "      <td>29174700</td>\n",
       "      <td>1074100</td>\n",
       "      <td>1096900</td>\n",
       "      <td>2680500</td>\n",
       "      <td>1933928</td>\n",
       "      <td>624500</td>\n",
       "      <td>1781200</td>\n",
       "      <td>4606200</td>\n",
       "    </tr>\n",
       "    <tr>\n",
       "      <th>2022-01-28</th>\n",
       "      <td>2174800</td>\n",
       "      <td>51662600</td>\n",
       "      <td>179935700</td>\n",
       "      <td>8014400</td>\n",
       "      <td>8286500</td>\n",
       "      <td>2416900</td>\n",
       "      <td>2457400</td>\n",
       "      <td>4339000</td>\n",
       "      <td>3839700</td>\n",
       "      <td>5871300</td>\n",
       "      <td>...</td>\n",
       "      <td>2296000</td>\n",
       "      <td>3430400</td>\n",
       "      <td>30595700</td>\n",
       "      <td>898800</td>\n",
       "      <td>1122300</td>\n",
       "      <td>3465700</td>\n",
       "      <td>2317912</td>\n",
       "      <td>569200</td>\n",
       "      <td>2186800</td>\n",
       "      <td>2963800</td>\n",
       "    </tr>\n",
       "  </tbody>\n",
       "</table>\n",
       "<p>1530 rows × 502 columns</p>\n",
       "</div>"
      ],
      "text/plain": [
       "                  A       AAL       AAPL      ABBV       ABT     ACGL  \\\n",
       "Date                                                                    \n",
       "2016-01-04  3287300  12037200  270597600  10308400  12227500  1220700   \n",
       "2016-01-05  2587200  10514200  223164000   7179600   8245200  1497600   \n",
       "2016-01-06  2103600  12393800  273829600   8952700   5906000  2013000   \n",
       "2016-01-07  3504300  11312900  324377600   9292600   7151400  1418100   \n",
       "2016-01-08  3736700   8853100  283192000   7985200   7477700  1323300   \n",
       "...             ...       ...        ...       ...       ...      ...   \n",
       "2022-01-24  2155300  59941000  162294600  13733800  10864500  2056600   \n",
       "2022-01-25  1705300  42471600  115798400  10296500   9126600  1703900   \n",
       "2022-01-26  1999500  39331800  108275300   8040300  14753100  1647800   \n",
       "2022-01-27  1715800  43507400  121954600   8869100   9179500  1926400   \n",
       "2022-01-28  2174800  51662600  179935700   8014400   8286500  2416900   \n",
       "\n",
       "                ACN     ADBE      ADI      ADM  ...     WYNN      XEL  \\\n",
       "Date                                            ...                     \n",
       "2016-01-04  2817000  2993800  2648900  4040800  ...  4249800  2819300   \n",
       "2016-01-05  2409000  1821300  2689500  3863200  ...  4286100  2141200   \n",
       "2016-01-06  3134200  1674000  3779700  6072600  ...  3316100  5191900   \n",
       "2016-01-07  3194700  2717800  5163000  4820500  ...  5525600  5212200   \n",
       "2016-01-08  2330200  2263400  3805200  4130700  ...  5740000  3005400   \n",
       "...             ...      ...      ...      ...  ...      ...      ...   \n",
       "2022-01-24  4544500  7538000  6665200  4235400  ...  5484500  4502300   \n",
       "2022-01-25  3625400  4051500  4064200  4188200  ...  3114200  4756500   \n",
       "2022-01-26  4422200  4449500  5850000  6153400  ...  3153000  4062100   \n",
       "2022-01-27  2778000  5865400  4691100  8203000  ...  2870400  4442200   \n",
       "2022-01-28  2457400  4339000  3839700  5871300  ...  2296000  3430400   \n",
       "\n",
       "                 XOM     XRAY      XYL       YUM      ZBH     ZBRA     ZION  \\\n",
       "Date                                                                          \n",
       "2016-01-04  20400100  1387100  1353400   4821623  2104084   656200  3523300   \n",
       "2016-01-05  11993500  1611200  1075400   5273420  2294737   611300  2653600   \n",
       "2016-01-06  18826900  1179700  1866000   5049330  2751233   881900  4164200   \n",
       "2016-01-07  21263800  1140400  1555400  11005453  1829589  1210600  4234000   \n",
       "2016-01-08  19033600  1233700  1471500   5996184  1670969  1034700  3401600   \n",
       "...              ...      ...      ...       ...      ...      ...      ...   \n",
       "2022-01-24  41507000  1739500  1501200   2927300  2113045   853600  2327900   \n",
       "2022-01-25  39278400  1785600  1636300   2667400  2417410   537900  3832600   \n",
       "2022-01-26  35252400  1560900  1233300   1958600  2914591   592500  2315800   \n",
       "2022-01-27  29174700  1074100  1096900   2680500  1933928   624500  1781200   \n",
       "2022-01-28  30595700   898800  1122300   3465700  2317912   569200  2186800   \n",
       "\n",
       "                ZTS  \n",
       "Date                 \n",
       "2016-01-04  2871700  \n",
       "2016-01-05  3116700  \n",
       "2016-01-06  4670500  \n",
       "2016-01-07  4324400  \n",
       "2016-01-08  4946100  \n",
       "...             ...  \n",
       "2022-01-24  4093400  \n",
       "2022-01-25  2673200  \n",
       "2022-01-26  4532700  \n",
       "2022-01-27  4606200  \n",
       "2022-01-28  2963800  \n",
       "\n",
       "[1530 rows x 502 columns]"
      ]
     },
     "execution_count": 7,
     "metadata": {},
     "output_type": "execute_result"
    }
   ],
   "source": [
    "data"
   ]
  },
  {
   "cell_type": "code",
   "execution_count": 8,
   "id": "39e6e051-6604-4b2a-a6fa-fef854c76c2d",
   "metadata": {},
   "outputs": [],
   "source": [
    "volumen = pd.DataFrame(data.mean())"
   ]
  },
  {
   "cell_type": "code",
   "execution_count": 9,
   "id": "e1457d90-d309-4cbe-b42e-f00053b90c0a",
   "metadata": {},
   "outputs": [
    {
     "data": {
      "text/html": [
       "<div>\n",
       "<style scoped>\n",
       "    .dataframe tbody tr th:only-of-type {\n",
       "        vertical-align: middle;\n",
       "    }\n",
       "\n",
       "    .dataframe tbody tr th {\n",
       "        vertical-align: top;\n",
       "    }\n",
       "\n",
       "    .dataframe thead th {\n",
       "        text-align: right;\n",
       "    }\n",
       "</style>\n",
       "<table border=\"1\" class=\"dataframe\">\n",
       "  <thead>\n",
       "    <tr style=\"text-align: right;\">\n",
       "      <th></th>\n",
       "      <th>0</th>\n",
       "    </tr>\n",
       "  </thead>\n",
       "  <tbody>\n",
       "    <tr>\n",
       "      <th>A</th>\n",
       "      <td>2.025938e+06</td>\n",
       "    </tr>\n",
       "    <tr>\n",
       "      <th>AAL</th>\n",
       "      <td>2.284485e+07</td>\n",
       "    </tr>\n",
       "    <tr>\n",
       "      <th>AAPL</th>\n",
       "      <td>1.261785e+08</td>\n",
       "    </tr>\n",
       "    <tr>\n",
       "      <th>ABBV</th>\n",
       "      <td>7.544011e+06</td>\n",
       "    </tr>\n",
       "    <tr>\n",
       "      <th>ABT</th>\n",
       "      <td>6.549001e+06</td>\n",
       "    </tr>\n",
       "    <tr>\n",
       "      <th>...</th>\n",
       "      <td>...</td>\n",
       "    </tr>\n",
       "    <tr>\n",
       "      <th>YUM</th>\n",
       "      <td>2.381567e+06</td>\n",
       "    </tr>\n",
       "    <tr>\n",
       "      <th>ZBH</th>\n",
       "      <td>1.383447e+06</td>\n",
       "    </tr>\n",
       "    <tr>\n",
       "      <th>ZBRA</th>\n",
       "      <td>4.398750e+05</td>\n",
       "    </tr>\n",
       "    <tr>\n",
       "      <th>ZION</th>\n",
       "      <td>2.381731e+06</td>\n",
       "    </tr>\n",
       "    <tr>\n",
       "      <th>ZTS</th>\n",
       "      <td>2.472820e+06</td>\n",
       "    </tr>\n",
       "  </tbody>\n",
       "</table>\n",
       "<p>502 rows × 1 columns</p>\n",
       "</div>"
      ],
      "text/plain": [
       "                 0\n",
       "A     2.025938e+06\n",
       "AAL   2.284485e+07\n",
       "AAPL  1.261785e+08\n",
       "ABBV  7.544011e+06\n",
       "ABT   6.549001e+06\n",
       "...            ...\n",
       "YUM   2.381567e+06\n",
       "ZBH   1.383447e+06\n",
       "ZBRA  4.398750e+05\n",
       "ZION  2.381731e+06\n",
       "ZTS   2.472820e+06\n",
       "\n",
       "[502 rows x 1 columns]"
      ]
     },
     "execution_count": 9,
     "metadata": {},
     "output_type": "execute_result"
    }
   ],
   "source": [
    "volumen"
   ]
  },
  {
   "cell_type": "code",
   "execution_count": 10,
   "id": "c67d84b3-6b7f-48b4-a1ed-11baad05be05",
   "metadata": {},
   "outputs": [],
   "source": [
    "vol_ord = volumen.sort_values(by=0 , ascending=False)"
   ]
  },
  {
   "cell_type": "code",
   "execution_count": 11,
   "id": "9c8c647a-062b-4f9a-bad7-c02644104aed",
   "metadata": {},
   "outputs": [
    {
     "data": {
      "text/html": [
       "<div>\n",
       "<style scoped>\n",
       "    .dataframe tbody tr th:only-of-type {\n",
       "        vertical-align: middle;\n",
       "    }\n",
       "\n",
       "    .dataframe tbody tr th {\n",
       "        vertical-align: top;\n",
       "    }\n",
       "\n",
       "    .dataframe thead th {\n",
       "        text-align: right;\n",
       "    }\n",
       "</style>\n",
       "<table border=\"1\" class=\"dataframe\">\n",
       "  <thead>\n",
       "    <tr style=\"text-align: right;\">\n",
       "      <th></th>\n",
       "      <th>0</th>\n",
       "    </tr>\n",
       "  </thead>\n",
       "  <tbody>\n",
       "    <tr>\n",
       "      <th>AAPL</th>\n",
       "      <td>1.261785e+08</td>\n",
       "    </tr>\n",
       "    <tr>\n",
       "      <th>TSLA</th>\n",
       "      <td>1.228821e+08</td>\n",
       "    </tr>\n",
       "    <tr>\n",
       "      <th>AMZN</th>\n",
       "      <td>8.480635e+07</td>\n",
       "    </tr>\n",
       "    <tr>\n",
       "      <th>BAC</th>\n",
       "      <td>7.086385e+07</td>\n",
       "    </tr>\n",
       "    <tr>\n",
       "      <th>AMD</th>\n",
       "      <td>6.017905e+07</td>\n",
       "    </tr>\n",
       "    <tr>\n",
       "      <th>...</th>\n",
       "      <td>...</td>\n",
       "    </tr>\n",
       "    <tr>\n",
       "      <th>NVR</th>\n",
       "      <td>2.712248e+04</td>\n",
       "    </tr>\n",
       "    <tr>\n",
       "      <th>BF.B</th>\n",
       "      <td>NaN</td>\n",
       "    </tr>\n",
       "    <tr>\n",
       "      <th>BRK.B</th>\n",
       "      <td>NaN</td>\n",
       "    </tr>\n",
       "    <tr>\n",
       "      <th>GEHC</th>\n",
       "      <td>NaN</td>\n",
       "    </tr>\n",
       "    <tr>\n",
       "      <th>KVUE</th>\n",
       "      <td>NaN</td>\n",
       "    </tr>\n",
       "  </tbody>\n",
       "</table>\n",
       "<p>502 rows × 1 columns</p>\n",
       "</div>"
      ],
      "text/plain": [
       "                  0\n",
       "AAPL   1.261785e+08\n",
       "TSLA   1.228821e+08\n",
       "AMZN   8.480635e+07\n",
       "BAC    7.086385e+07\n",
       "AMD    6.017905e+07\n",
       "...             ...\n",
       "NVR    2.712248e+04\n",
       "BF.B            NaN\n",
       "BRK.B           NaN\n",
       "GEHC            NaN\n",
       "KVUE            NaN\n",
       "\n",
       "[502 rows x 1 columns]"
      ]
     },
     "execution_count": 11,
     "metadata": {},
     "output_type": "execute_result"
    }
   ],
   "source": [
    "vol_ord"
   ]
  },
  {
   "cell_type": "code",
   "execution_count": 12,
   "id": "cd2d1e6b-27c0-405e-b295-721219e6c7a2",
   "metadata": {},
   "outputs": [],
   "source": [
    "vol_5 = vol_ord[:5]"
   ]
  },
  {
   "cell_type": "code",
   "execution_count": 13,
   "id": "4d047edb-ef9d-443a-98fc-60f518b36bcc",
   "metadata": {},
   "outputs": [
    {
     "data": {
      "text/html": [
       "<div>\n",
       "<style scoped>\n",
       "    .dataframe tbody tr th:only-of-type {\n",
       "        vertical-align: middle;\n",
       "    }\n",
       "\n",
       "    .dataframe tbody tr th {\n",
       "        vertical-align: top;\n",
       "    }\n",
       "\n",
       "    .dataframe thead th {\n",
       "        text-align: right;\n",
       "    }\n",
       "</style>\n",
       "<table border=\"1\" class=\"dataframe\">\n",
       "  <thead>\n",
       "    <tr style=\"text-align: right;\">\n",
       "      <th></th>\n",
       "      <th>0</th>\n",
       "    </tr>\n",
       "  </thead>\n",
       "  <tbody>\n",
       "    <tr>\n",
       "      <th>AAPL</th>\n",
       "      <td>1.261785e+08</td>\n",
       "    </tr>\n",
       "    <tr>\n",
       "      <th>TSLA</th>\n",
       "      <td>1.228821e+08</td>\n",
       "    </tr>\n",
       "    <tr>\n",
       "      <th>AMZN</th>\n",
       "      <td>8.480635e+07</td>\n",
       "    </tr>\n",
       "    <tr>\n",
       "      <th>BAC</th>\n",
       "      <td>7.086385e+07</td>\n",
       "    </tr>\n",
       "    <tr>\n",
       "      <th>AMD</th>\n",
       "      <td>6.017905e+07</td>\n",
       "    </tr>\n",
       "  </tbody>\n",
       "</table>\n",
       "</div>"
      ],
      "text/plain": [
       "                 0\n",
       "AAPL  1.261785e+08\n",
       "TSLA  1.228821e+08\n",
       "AMZN  8.480635e+07\n",
       "BAC   7.086385e+07\n",
       "AMD   6.017905e+07"
      ]
     },
     "execution_count": 13,
     "metadata": {},
     "output_type": "execute_result"
    }
   ],
   "source": [
    "vol_5"
   ]
  },
  {
   "cell_type": "code",
   "execution_count": 14,
   "id": "e7e19c28-21d9-42a9-a47d-43632b4aedd2",
   "metadata": {},
   "outputs": [
    {
     "data": {
      "text/plain": [
       "Index(['AAPL', 'TSLA', 'AMZN', 'BAC', 'AMD'], dtype='object')"
      ]
     },
     "execution_count": 14,
     "metadata": {},
     "output_type": "execute_result"
    }
   ],
   "source": [
    "vol_5.index"
   ]
  },
  {
   "cell_type": "code",
   "execution_count": 15,
   "id": "44bfc868-97a9-4b0f-8d39-fa9d8bc403f2",
   "metadata": {},
   "outputs": [],
   "source": [
    "tic_5 = list(vol_5.index)"
   ]
  },
  {
   "cell_type": "code",
   "execution_count": 16,
   "id": "3ec2bc02-e59f-48a5-adea-26a5ca93bceb",
   "metadata": {},
   "outputs": [
    {
     "data": {
      "text/plain": [
       "['AAPL', 'TSLA', 'AMZN', 'BAC', 'AMD']"
      ]
     },
     "execution_count": 16,
     "metadata": {},
     "output_type": "execute_result"
    }
   ],
   "source": [
    "tic_5"
   ]
  },
  {
   "cell_type": "code",
   "execution_count": 17,
   "id": "64e286af-9e70-4e04-859f-8579d24f060b",
   "metadata": {},
   "outputs": [],
   "source": [
    "tickers = tic_5"
   ]
  },
  {
   "cell_type": "code",
   "execution_count": 18,
   "id": "fad765a5-a9d8-45a9-94ba-1db7c505f508",
   "metadata": {},
   "outputs": [
    {
     "name": "stdout",
     "output_type": "stream",
     "text": [
      "[*********************100%***********************]  5 of 5 completed\n"
     ]
    }
   ],
   "source": [
    "data = yf.download(tickers,start,end)['Adj Close']"
   ]
  },
  {
   "cell_type": "code",
   "execution_count": 19,
   "id": "ce8ac098-0bc5-4861-bcad-5e2c63b373f4",
   "metadata": {},
   "outputs": [
    {
     "data": {
      "text/html": [
       "<div>\n",
       "<style scoped>\n",
       "    .dataframe tbody tr th:only-of-type {\n",
       "        vertical-align: middle;\n",
       "    }\n",
       "\n",
       "    .dataframe tbody tr th {\n",
       "        vertical-align: top;\n",
       "    }\n",
       "\n",
       "    .dataframe thead th {\n",
       "        text-align: right;\n",
       "    }\n",
       "</style>\n",
       "<table border=\"1\" class=\"dataframe\">\n",
       "  <thead>\n",
       "    <tr style=\"text-align: right;\">\n",
       "      <th></th>\n",
       "      <th>AAPL</th>\n",
       "      <th>AMD</th>\n",
       "      <th>AMZN</th>\n",
       "      <th>BAC</th>\n",
       "      <th>TSLA</th>\n",
       "    </tr>\n",
       "    <tr>\n",
       "      <th>Date</th>\n",
       "      <th></th>\n",
       "      <th></th>\n",
       "      <th></th>\n",
       "      <th></th>\n",
       "      <th></th>\n",
       "    </tr>\n",
       "  </thead>\n",
       "  <tbody>\n",
       "    <tr>\n",
       "      <th>2016-01-04</th>\n",
       "      <td>24.009062</td>\n",
       "      <td>2.77</td>\n",
       "      <td>31.849501</td>\n",
       "      <td>13.956213</td>\n",
       "      <td>14.894000</td>\n",
       "    </tr>\n",
       "    <tr>\n",
       "      <th>2016-01-05</th>\n",
       "      <td>23.407415</td>\n",
       "      <td>2.75</td>\n",
       "      <td>31.689501</td>\n",
       "      <td>13.956213</td>\n",
       "      <td>14.895333</td>\n",
       "    </tr>\n",
       "    <tr>\n",
       "      <th>2016-01-06</th>\n",
       "      <td>22.949333</td>\n",
       "      <td>2.51</td>\n",
       "      <td>31.632500</td>\n",
       "      <td>13.658914</td>\n",
       "      <td>14.602667</td>\n",
       "    </tr>\n",
       "    <tr>\n",
       "      <th>2016-01-07</th>\n",
       "      <td>21.980774</td>\n",
       "      <td>2.28</td>\n",
       "      <td>30.396999</td>\n",
       "      <td>13.166240</td>\n",
       "      <td>14.376667</td>\n",
       "    </tr>\n",
       "    <tr>\n",
       "      <th>2016-01-08</th>\n",
       "      <td>22.096996</td>\n",
       "      <td>2.14</td>\n",
       "      <td>30.352501</td>\n",
       "      <td>12.911409</td>\n",
       "      <td>14.066667</td>\n",
       "    </tr>\n",
       "  </tbody>\n",
       "</table>\n",
       "</div>"
      ],
      "text/plain": [
       "                 AAPL   AMD       AMZN        BAC       TSLA\n",
       "Date                                                        \n",
       "2016-01-04  24.009062  2.77  31.849501  13.956213  14.894000\n",
       "2016-01-05  23.407415  2.75  31.689501  13.956213  14.895333\n",
       "2016-01-06  22.949333  2.51  31.632500  13.658914  14.602667\n",
       "2016-01-07  21.980774  2.28  30.396999  13.166240  14.376667\n",
       "2016-01-08  22.096996  2.14  30.352501  12.911409  14.066667"
      ]
     },
     "execution_count": 19,
     "metadata": {},
     "output_type": "execute_result"
    }
   ],
   "source": [
    "data.head()"
   ]
  },
  {
   "cell_type": "code",
   "execution_count": 20,
   "id": "d633fdd7",
   "metadata": {
    "tags": []
   },
   "outputs": [],
   "source": [
    "log_returns = np.log(data/data.shift()).dropna()"
   ]
  },
  {
   "cell_type": "code",
   "execution_count": 21,
   "id": "b41904c3",
   "metadata": {},
   "outputs": [
    {
     "data": {
      "text/html": [
       "<div>\n",
       "<style scoped>\n",
       "    .dataframe tbody tr th:only-of-type {\n",
       "        vertical-align: middle;\n",
       "    }\n",
       "\n",
       "    .dataframe tbody tr th {\n",
       "        vertical-align: top;\n",
       "    }\n",
       "\n",
       "    .dataframe thead th {\n",
       "        text-align: right;\n",
       "    }\n",
       "</style>\n",
       "<table border=\"1\" class=\"dataframe\">\n",
       "  <thead>\n",
       "    <tr style=\"text-align: right;\">\n",
       "      <th></th>\n",
       "      <th>AAPL</th>\n",
       "      <th>AMD</th>\n",
       "      <th>AMZN</th>\n",
       "      <th>BAC</th>\n",
       "      <th>TSLA</th>\n",
       "    </tr>\n",
       "    <tr>\n",
       "      <th>Date</th>\n",
       "      <th></th>\n",
       "      <th></th>\n",
       "      <th></th>\n",
       "      <th></th>\n",
       "      <th></th>\n",
       "    </tr>\n",
       "  </thead>\n",
       "  <tbody>\n",
       "    <tr>\n",
       "      <th>2016-01-05</th>\n",
       "      <td>-0.025378</td>\n",
       "      <td>-0.007246</td>\n",
       "      <td>-0.005036</td>\n",
       "      <td>0.000000</td>\n",
       "      <td>0.000090</td>\n",
       "    </tr>\n",
       "    <tr>\n",
       "      <th>2016-01-06</th>\n",
       "      <td>-0.019764</td>\n",
       "      <td>-0.091318</td>\n",
       "      <td>-0.001800</td>\n",
       "      <td>-0.021532</td>\n",
       "      <td>-0.019844</td>\n",
       "    </tr>\n",
       "    <tr>\n",
       "      <th>2016-01-07</th>\n",
       "      <td>-0.043121</td>\n",
       "      <td>-0.096107</td>\n",
       "      <td>-0.039841</td>\n",
       "      <td>-0.036736</td>\n",
       "      <td>-0.015598</td>\n",
       "    </tr>\n",
       "    <tr>\n",
       "      <th>2016-01-08</th>\n",
       "      <td>0.005274</td>\n",
       "      <td>-0.063370</td>\n",
       "      <td>-0.001465</td>\n",
       "      <td>-0.019545</td>\n",
       "      <td>-0.021799</td>\n",
       "    </tr>\n",
       "    <tr>\n",
       "      <th>2016-01-11</th>\n",
       "      <td>0.016063</td>\n",
       "      <td>0.089345</td>\n",
       "      <td>0.017456</td>\n",
       "      <td>0.007211</td>\n",
       "      <td>-0.015041</td>\n",
       "    </tr>\n",
       "    <tr>\n",
       "      <th>...</th>\n",
       "      <td>...</td>\n",
       "      <td>...</td>\n",
       "      <td>...</td>\n",
       "      <td>...</td>\n",
       "      <td>...</td>\n",
       "    </tr>\n",
       "    <tr>\n",
       "      <th>2022-01-24</th>\n",
       "      <td>-0.004876</td>\n",
       "      <td>-0.019377</td>\n",
       "      <td>0.013239</td>\n",
       "      <td>-0.008271</td>\n",
       "      <td>-0.014836</td>\n",
       "    </tr>\n",
       "    <tr>\n",
       "      <th>2022-01-25</th>\n",
       "      <td>-0.011450</td>\n",
       "      <td>-0.047448</td>\n",
       "      <td>-0.032042</td>\n",
       "      <td>0.019561</td>\n",
       "      <td>-0.012552</td>\n",
       "    </tr>\n",
       "    <tr>\n",
       "      <th>2022-01-26</th>\n",
       "      <td>-0.000564</td>\n",
       "      <td>-0.003787</td>\n",
       "      <td>-0.007986</td>\n",
       "      <td>0.010292</td>\n",
       "      <td>0.020488</td>\n",
       "    </tr>\n",
       "    <tr>\n",
       "      <th>2022-01-27</th>\n",
       "      <td>-0.002947</td>\n",
       "      <td>-0.076076</td>\n",
       "      <td>0.005494</td>\n",
       "      <td>-0.009412</td>\n",
       "      <td>-0.122780</td>\n",
       "    </tr>\n",
       "    <tr>\n",
       "      <th>2022-01-28</th>\n",
       "      <td>0.067451</td>\n",
       "      <td>0.025406</td>\n",
       "      <td>0.030611</td>\n",
       "      <td>0.008758</td>\n",
       "      <td>0.020592</td>\n",
       "    </tr>\n",
       "  </tbody>\n",
       "</table>\n",
       "<p>1529 rows × 5 columns</p>\n",
       "</div>"
      ],
      "text/plain": [
       "                AAPL       AMD      AMZN       BAC      TSLA\n",
       "Date                                                        \n",
       "2016-01-05 -0.025378 -0.007246 -0.005036  0.000000  0.000090\n",
       "2016-01-06 -0.019764 -0.091318 -0.001800 -0.021532 -0.019844\n",
       "2016-01-07 -0.043121 -0.096107 -0.039841 -0.036736 -0.015598\n",
       "2016-01-08  0.005274 -0.063370 -0.001465 -0.019545 -0.021799\n",
       "2016-01-11  0.016063  0.089345  0.017456  0.007211 -0.015041\n",
       "...              ...       ...       ...       ...       ...\n",
       "2022-01-24 -0.004876 -0.019377  0.013239 -0.008271 -0.014836\n",
       "2022-01-25 -0.011450 -0.047448 -0.032042  0.019561 -0.012552\n",
       "2022-01-26 -0.000564 -0.003787 -0.007986  0.010292  0.020488\n",
       "2022-01-27 -0.002947 -0.076076  0.005494 -0.009412 -0.122780\n",
       "2022-01-28  0.067451  0.025406  0.030611  0.008758  0.020592\n",
       "\n",
       "[1529 rows x 5 columns]"
      ]
     },
     "execution_count": 21,
     "metadata": {},
     "output_type": "execute_result"
    }
   ],
   "source": [
    "log_returns"
   ]
  },
  {
   "cell_type": "markdown",
   "id": "cbfec2e7",
   "metadata": {},
   "source": [
    "# Elementos básicos"
   ]
  },
  {
   "cell_type": "code",
   "execution_count": 22,
   "id": "e01387c7",
   "metadata": {},
   "outputs": [
    {
     "data": {
      "text/plain": [
       "array([[<AxesSubplot:title={'center':'AAPL'}>,\n",
       "        <AxesSubplot:title={'center':'AMD'}>],\n",
       "       [<AxesSubplot:title={'center':'AMZN'}>,\n",
       "        <AxesSubplot:title={'center':'BAC'}>],\n",
       "       [<AxesSubplot:title={'center':'TSLA'}>, <AxesSubplot:>]],\n",
       "      dtype=object)"
      ]
     },
     "execution_count": 22,
     "metadata": {},
     "output_type": "execute_result"
    },
    {
     "data": {
      "image/png": "[encoded data removed]",
      "text/plain": [
       "<Figure size 1000x800 with 6 Axes>"
      ]
     },
     "metadata": {},
     "output_type": "display_data"
    }
   ],
   "source": [
    "data.hist(bins=40,figsize=(10,8))"
   ]
  },
  {
   "cell_type": "code",
   "execution_count": 23,
   "id": "b2d70287",
   "metadata": {},
   "outputs": [
    {
     "data": {
      "text/plain": [
       "array([[<AxesSubplot:title={'center':'AAPL'}>,\n",
       "        <AxesSubplot:title={'center':'AMD'}>],\n",
       "       [<AxesSubplot:title={'center':'AMZN'}>,\n",
       "        <AxesSubplot:title={'center':'BAC'}>],\n",
       "       [<AxesSubplot:title={'center':'TSLA'}>, <AxesSubplot:>]],\n",
       "      dtype=object)"
      ]
     },
     "execution_count": 23,
     "metadata": {},
     "output_type": "execute_result"
    },
    {
     "data": {
      "image/png": "[encoded data removed]",
      "text/plain": [
       "<Figure size 1000x800 with 6 Axes>"
      ]
     },
     "metadata": {},
     "output_type": "display_data"
    }
   ],
   "source": [
    "log_returns.hist(bins=40, figsize=(10,8))"
   ]
  },
  {
   "cell_type": "markdown",
   "id": "1a1bda59",
   "metadata": {},
   "source": [
    "### matriz de covarianza anualizada\n"
   ]
  },
  {
   "cell_type": "code",
   "execution_count": 24,
   "id": "ed47cc9b",
   "metadata": {},
   "outputs": [
    {
     "data": {
      "text/html": [
       "<div>\n",
       "<style scoped>\n",
       "    .dataframe tbody tr th:only-of-type {\n",
       "        vertical-align: middle;\n",
       "    }\n",
       "\n",
       "    .dataframe tbody tr th {\n",
       "        vertical-align: top;\n",
       "    }\n",
       "\n",
       "    .dataframe thead th {\n",
       "        text-align: right;\n",
       "    }\n",
       "</style>\n",
       "<table border=\"1\" class=\"dataframe\">\n",
       "  <thead>\n",
       "    <tr style=\"text-align: right;\">\n",
       "      <th></th>\n",
       "      <th>AAPL</th>\n",
       "      <th>AMD</th>\n",
       "      <th>AMZN</th>\n",
       "      <th>BAC</th>\n",
       "      <th>TSLA</th>\n",
       "    </tr>\n",
       "  </thead>\n",
       "  <tbody>\n",
       "    <tr>\n",
       "      <th>AAPL</th>\n",
       "      <td>0.086805</td>\n",
       "      <td>0.074678</td>\n",
       "      <td>0.052026</td>\n",
       "      <td>0.041414</td>\n",
       "      <td>0.068475</td>\n",
       "    </tr>\n",
       "    <tr>\n",
       "      <th>AMD</th>\n",
       "      <td>0.074678</td>\n",
       "      <td>0.366034</td>\n",
       "      <td>0.071206</td>\n",
       "      <td>0.056097</td>\n",
       "      <td>0.110880</td>\n",
       "    </tr>\n",
       "    <tr>\n",
       "      <th>AMZN</th>\n",
       "      <td>0.052026</td>\n",
       "      <td>0.071206</td>\n",
       "      <td>0.086491</td>\n",
       "      <td>0.026635</td>\n",
       "      <td>0.062008</td>\n",
       "    </tr>\n",
       "    <tr>\n",
       "      <th>BAC</th>\n",
       "      <td>0.041414</td>\n",
       "      <td>0.056097</td>\n",
       "      <td>0.026635</td>\n",
       "      <td>0.111689</td>\n",
       "      <td>0.047467</td>\n",
       "    </tr>\n",
       "    <tr>\n",
       "      <th>TSLA</th>\n",
       "      <td>0.068475</td>\n",
       "      <td>0.110880</td>\n",
       "      <td>0.062008</td>\n",
       "      <td>0.047467</td>\n",
       "      <td>0.330830</td>\n",
       "    </tr>\n",
       "  </tbody>\n",
       "</table>\n",
       "</div>"
      ],
      "text/plain": [
       "          AAPL       AMD      AMZN       BAC      TSLA\n",
       "AAPL  0.086805  0.074678  0.052026  0.041414  0.068475\n",
       "AMD   0.074678  0.366034  0.071206  0.056097  0.110880\n",
       "AMZN  0.052026  0.071206  0.086491  0.026635  0.062008\n",
       "BAC   0.041414  0.056097  0.026635  0.111689  0.047467\n",
       "TSLA  0.068475  0.110880  0.062008  0.047467  0.330830"
      ]
     },
     "execution_count": 24,
     "metadata": {},
     "output_type": "execute_result"
    }
   ],
   "source": [
    "log_returns.cov()*252"
   ]
  },
  {
   "cell_type": "markdown",
   "id": "79a1068b",
   "metadata": {},
   "source": [
    "### retornos medios anuales"
   ]
  },
  {
   "cell_type": "code",
   "execution_count": 25,
   "id": "6c5a2c39",
   "metadata": {},
   "outputs": [
    {
     "data": {
      "text/plain": [
       "AAPL    0.321265\n",
       "AMD     0.599492\n",
       "AMZN    0.248644\n",
       "BAC     0.188573\n",
       "TSLA    0.484777\n",
       "dtype: float64"
      ]
     },
     "execution_count": 25,
     "metadata": {},
     "output_type": "execute_result"
    }
   ],
   "source": [
    "log_returns.mean()*252"
   ]
  },
  {
   "cell_type": "markdown",
   "id": "da826332",
   "metadata": {
    "tags": []
   },
   "source": [
    "## Modelo teórico basico"
   ]
  },
  {
   "cell_type": "code",
   "execution_count": 26,
   "id": "698eb0fd",
   "metadata": {},
   "outputs": [
    {
     "data": {
      "text/plain": [
       "array([0.27220623, 0.19207944, 0.15043341, 0.02999488, 0.35528604])"
      ]
     },
     "execution_count": 26,
     "metadata": {},
     "output_type": "execute_result"
    }
   ],
   "source": [
    "noa = len(tickers)\n",
    "weights = np.random.random(noa)\n",
    "weights /= np.sum(weights)\n",
    "weights"
   ]
  },
  {
   "cell_type": "code",
   "execution_count": 27,
   "id": "2bf38960",
   "metadata": {},
   "outputs": [
    {
     "data": {
      "text/plain": [
       "0.9999999999999999"
      ]
     },
     "execution_count": 27,
     "metadata": {},
     "output_type": "execute_result"
    }
   ],
   "source": [
    "weights.sum()"
   ]
  },
  {
   "cell_type": "markdown",
   "id": "647f6ebb",
   "metadata": {},
   "source": [
    "### Retorno esperado del portfolio"
   ]
  },
  {
   "cell_type": "code",
   "execution_count": 28,
   "id": "d27013cb",
   "metadata": {},
   "outputs": [
    {
     "data": {
      "text/plain": [
       "0.41789540589616375"
      ]
     },
     "execution_count": 28,
     "metadata": {},
     "output_type": "execute_result"
    }
   ],
   "source": [
    "np.sum(log_returns.mean()*weights) *252"
   ]
  },
  {
   "cell_type": "markdown",
   "id": "d2f42c55",
   "metadata": {
    "tags": []
   },
   "source": [
    "### Volatilidad del portfolio"
   ]
  },
  {
   "cell_type": "code",
   "execution_count": 29,
   "id": "729542aa",
   "metadata": {
    "tags": []
   },
   "outputs": [],
   "source": [
    "# b = np.dot(log_returns.cov()*252,weights)\n"
   ]
  },
  {
   "cell_type": "code",
   "execution_count": 30,
   "id": "2ecf73d9",
   "metadata": {},
   "outputs": [],
   "source": [
    "# a = np.dot(weights.T, b)\n"
   ]
  },
  {
   "cell_type": "code",
   "execution_count": 31,
   "id": "13b3aa6e",
   "metadata": {},
   "outputs": [
    {
     "data": {
      "text/plain": [
       "0.11752044803539875"
      ]
     },
     "execution_count": 31,
     "metadata": {},
     "output_type": "execute_result"
    }
   ],
   "source": [
    "var_portfolio = np.dot(weights.T, np.dot(log_returns.cov()*252,weights))\n",
    "var_portfolio"
   ]
  },
  {
   "cell_type": "code",
   "execution_count": 32,
   "id": "a4290824",
   "metadata": {},
   "outputs": [
    {
     "data": {
      "text/plain": [
       "0.3428125552476145"
      ]
     },
     "execution_count": 32,
     "metadata": {},
     "output_type": "execute_result"
    }
   ],
   "source": [
    "std_portfolio=var_portfolio**0.5\n",
    "std_portfolio"
   ]
  },
  {
   "cell_type": "code",
   "execution_count": 33,
   "id": "07034ab3",
   "metadata": {},
   "outputs": [],
   "source": [
    "def port_ret(weights):\n",
    "    return np.sum(log_returns.mean() * weights) * 252\n",
    "\n",
    "def port_vol(weights):\n",
    "    return np.sqrt(np.dot(weights.T, np.dot(log_returns.cov() * 252, weights)))"
   ]
  },
  {
   "cell_type": "code",
   "execution_count": 34,
   "id": "394a27b6",
   "metadata": {
    "tags": [],
    "uuid": "689bff52-80a9-48ac-9fce-0855e2a763ae"
   },
   "outputs": [
    {
     "name": "stdout",
     "output_type": "stream",
     "text": [
      "Wall time: 765 ms\n"
     ]
    }
   ],
   "source": [
    "%%time\n",
    "prets = []\n",
    "pvols = []\n",
    "for p in range (1000):\n",
    "    weights = np.random.random(noa)  \n",
    "    weights /= np.sum(weights)  \n",
    "    prets.append(port_ret(weights))\n",
    "    pvols.append(port_vol(weights))\n",
    "prets = np.array(prets)\n",
    "pvols = np.array(pvols)"
   ]
  },
  {
   "cell_type": "code",
   "execution_count": 35,
   "id": "167c4ec0",
   "metadata": {},
   "outputs": [
    {
     "data": {
      "text/plain": [
       "Text(0, 0.5, 'retorno esperado')"
      ]
     },
     "execution_count": 35,
     "metadata": {},
     "output_type": "execute_result"
    },
    {
     "data": {
      "image/png": "[encoded data removed]",
      "text/plain": [
       "<Figure size 1000x600 with 1 Axes>"
      ]
     },
     "metadata": {},
     "output_type": "display_data"
    }
   ],
   "source": [
    "plt.figure(figsize=(10, 6))\n",
    "plt.scatter(pvols, prets, c = prets / pvols , cmap='coolwarm')\n",
    "plt.xlabel('volatilidad esperada')\n",
    "plt.ylabel('retorno esperado')\n"
   ]
  },
  {
   "cell_type": "markdown",
   "id": "f576fa04",
   "metadata": {},
   "source": [
    "# Optimización del portfolio"
   ]
  },
  {
   "cell_type": "code",
   "execution_count": 36,
   "id": "cdaff582",
   "metadata": {
    "uuid": "1fea02c0-d092-4a29-a9eb-2d4022985a62"
   },
   "outputs": [],
   "source": [
    "import scipy.optimize as sco"
   ]
  },
  {
   "cell_type": "code",
   "execution_count": 37,
   "id": "1f368897",
   "metadata": {
    "uuid": "0124792d-7b7f-4f7c-ac42-367681a7145f"
   },
   "outputs": [],
   "source": [
    "# función a minimizar\n",
    "def min_func_sharpe(weights):  \n",
    "    return -port_ret(weights) / port_vol(weights)  "
   ]
  },
  {
   "cell_type": "code",
   "execution_count": 38,
   "id": "f4aec9ee",
   "metadata": {
    "uuid": "a634bb6a-ef2e-4a68-9414-b2e320b58296"
   },
   "outputs": [],
   "source": [
    "# restricción de igualdad\n",
    "cons = ({'type': 'eq', 'fun': lambda x:  np.sum(x) - 1},\n",
    "        {'type': \"ineq\", 'fun': lambda x: sum([-i if i < 0.05 else 0 for i in x])}\n",
    "       )  "
   ]
  },
  {
   "cell_type": "code",
   "execution_count": 39,
   "id": "4f7ebc6e",
   "metadata": {
    "uuid": "40e6c1b4-8fb8-4a8f-b2ba-36ffdaefc47b"
   },
   "outputs": [],
   "source": [
    "# limite de los parámetros\n",
    "bnds = tuple((0, 1) for x in range(noa))  "
   ]
  },
  {
   "cell_type": "code",
   "execution_count": 40,
   "id": "a9a45d50",
   "metadata": {
    "uuid": "d689f1b3-c680-4a1e-865b-85a64b06c0f6"
   },
   "outputs": [],
   "source": [
    "# vector de pondereaciones iguales\n",
    "eweights = np.array(noa * [1. / noa,])  \n"
   ]
  },
  {
   "cell_type": "code",
   "execution_count": 41,
   "id": "bf8e60e8",
   "metadata": {},
   "outputs": [
    {
     "data": {
      "text/plain": [
       "-1.2413616602121138"
      ]
     },
     "execution_count": 41,
     "metadata": {},
     "output_type": "execute_result"
    }
   ],
   "source": [
    "min_func_sharpe(eweights)"
   ]
  },
  {
   "cell_type": "code",
   "execution_count": 42,
   "id": "2b2313a1-2382-4008-af4b-439af4cc9bdf",
   "metadata": {},
   "outputs": [
    {
     "data": {
      "text/plain": [
       "array([0.2, 0.2, 0.2, 0.2, 0.2])"
      ]
     },
     "execution_count": 42,
     "metadata": {},
     "output_type": "execute_result"
    }
   ],
   "source": [
    "eweights"
   ]
  },
  {
   "cell_type": "markdown",
   "id": "9562000b",
   "metadata": {},
   "source": [
    "## Resolviendo mediente derivación matematica el problema de minimización\n"
   ]
  },
  {
   "cell_type": "markdown",
   "id": "6750e360",
   "metadata": {
    "tags": []
   },
   "source": [
    "### Cartera de máximo Sharpe Ratio "
   ]
  },
  {
   "cell_type": "code",
   "execution_count": 43,
   "id": "9cddf326",
   "metadata": {
    "uuid": "dda15397-398b-445e-be6a-11e7ed0e3c32"
   },
   "outputs": [
    {
     "name": "stdout",
     "output_type": "stream",
     "text": [
      "Wall time: 101 ms\n"
     ]
    }
   ],
   "source": [
    "%%time\n",
    "opts = sco.minimize(min_func_sharpe, eweights,\n",
    "                    method='SLSQP', bounds=bnds,\n",
    "                    constraints=cons)  "
   ]
  },
  {
   "cell_type": "code",
   "execution_count": 44,
   "id": "f7ddec28",
   "metadata": {
    "uuid": "ee237054-2af4-4879-97d1-0ee77d84d9a8"
   },
   "outputs": [
    {
     "data": {
      "text/plain": [
       "     fun: -1.286764417357142\n",
       "     jac: array([-1.66445971e-05,  3.16500664e-05, -1.35600567e-06, -1.97704434e-02,\n",
       "        1.20103359e-05])\n",
       " message: 'Optimization terminated successfully'\n",
       "    nfev: 42\n",
       "     nit: 7\n",
       "    njev: 7\n",
       "  status: 0\n",
       " success: True\n",
       "       x: array([5.37252354e-01, 2.27626794e-01, 7.98891682e-02, 6.95244643e-18,\n",
       "       1.55231684e-01])"
      ]
     },
     "execution_count": 44,
     "metadata": {},
     "output_type": "execute_result"
    }
   ],
   "source": [
    "opts"
   ]
  },
  {
   "cell_type": "code",
   "execution_count": 45,
   "id": "877040e3",
   "metadata": {
    "uuid": "e0a821b0-a330-4979-bec2-a9e731f11656"
   },
   "outputs": [
    {
     "data": {
      "text/plain": [
       "array([0.537, 0.228, 0.08 , 0.   , 0.155])"
      ]
     },
     "execution_count": 45,
     "metadata": {},
     "output_type": "execute_result"
    }
   ],
   "source": [
    "# ponderación del portfolio óptimo de max sharpe\n",
    "opts['x'].round(3) "
   ]
  },
  {
   "cell_type": "code",
   "execution_count": 46,
   "id": "edb0e0e0",
   "metadata": {
    "uuid": "faae2c2f-382b-427b-9426-87085a339b76"
   },
   "outputs": [
    {
     "data": {
      "text/plain": [
       "0.404"
      ]
     },
     "execution_count": 46,
     "metadata": {},
     "output_type": "execute_result"
    }
   ],
   "source": [
    "# retorno del portfolio optimo de max sharpe\n",
    "port_ret(opts['x']).round(3) "
   ]
  },
  {
   "cell_type": "code",
   "execution_count": 47,
   "id": "2686e213",
   "metadata": {
    "uuid": "faae2c2f-382b-427b-9426-87085a339b76"
   },
   "outputs": [
    {
     "data": {
      "text/plain": [
       "0.314"
      ]
     },
     "execution_count": 47,
     "metadata": {},
     "output_type": "execute_result"
    }
   ],
   "source": [
    "# volatilidad del portfolio optimo de max sharpe\n",
    "port_vol(opts['x']).round(3)  "
   ]
  },
  {
   "cell_type": "code",
   "execution_count": 48,
   "id": "374266ac",
   "metadata": {},
   "outputs": [
    {
     "data": {
      "text/plain": [
       "1.286764417357142"
      ]
     },
     "execution_count": 48,
     "metadata": {},
     "output_type": "execute_result"
    }
   ],
   "source": [
    "# Ratio de sharpe máximo\n",
    "port_ret(opts['x']) / port_vol(opts['x'])"
   ]
  },
  {
   "cell_type": "code",
   "execution_count": 49,
   "id": "8ebba210",
   "metadata": {},
   "outputs": [
    {
     "data": {
      "text/plain": [
       "Date\n",
       "2016-01-05   -0.015673\n",
       "2016-01-06   -0.034629\n",
       "2016-01-07   -0.050647\n",
       "2016-01-08   -0.015092\n",
       "2016-01-11    0.028027\n",
       "                ...   \n",
       "2022-01-24   -0.008276\n",
       "2022-01-25   -0.021460\n",
       "2022-01-26    0.001378\n",
       "2022-01-27   -0.037521\n",
       "2022-01-28    0.047663\n",
       "Length: 1529, dtype: float64"
      ]
     },
     "execution_count": 49,
     "metadata": {},
     "output_type": "execute_result"
    }
   ],
   "source": [
    "portfolio_maxs = pd.Series(np.dot(log_returns , opts['x']),index=log_returns.index)\n",
    "portfolio_maxs"
   ]
  },
  {
   "cell_type": "markdown",
   "id": "49fa3ee2",
   "metadata": {},
   "source": [
    "### Cartera de minima varianza"
   ]
  },
  {
   "cell_type": "code",
   "execution_count": 50,
   "id": "195acc11",
   "metadata": {
    "uuid": "f84ed951-5f9b-4ec7-bb7c-330994bdb0b9"
   },
   "outputs": [],
   "source": [
    "optv = sco.minimize(port_vol, eweights,\n",
    "                    method='SLSQP', bounds=bnds,\n",
    "                    constraints=cons)"
   ]
  },
  {
   "cell_type": "code",
   "execution_count": 51,
   "id": "f37113f5",
   "metadata": {
    "uuid": "76321897-4b6e-4714-965a-79bdd489b846"
   },
   "outputs": [
    {
     "data": {
      "text/plain": [
       "array([0.269, 0.   , 0.41 , 0.321, 0.   ])"
      ]
     },
     "execution_count": 51,
     "metadata": {},
     "output_type": "execute_result"
    }
   ],
   "source": [
    "optv.x.round(3)"
   ]
  },
  {
   "cell_type": "code",
   "execution_count": 52,
   "id": "008c32e8",
   "metadata": {},
   "outputs": [],
   "source": [
    "pond_mv=optv['x']\n",
    "cartera_mv = dict(zip(tickers,pond_mv))\n",
    "ret_mv = port_ret(optv['x'])\n",
    "vol_mv = port_vol(optv['x'])\n",
    "sharpe_mv = ret_mv / vol_mv"
   ]
  },
  {
   "cell_type": "code",
   "execution_count": 53,
   "id": "ff77df3d",
   "metadata": {},
   "outputs": [
    {
     "name": "stdout",
     "output_type": "stream",
     "text": [
      "Cartera de Mínima Varianza:\n",
      "---------------------------\n",
      "AAPL 0.269\n",
      "TSLA 0.0\n",
      "AMZN 0.41\n",
      "BAC 0.321\n",
      "AMD 0.0\n",
      "Retorno:  0.249\n",
      "Volatilidad:  0.241\n",
      "Ratio de Sharpe:  1.034\n"
     ]
    }
   ],
   "source": [
    "print('Cartera de Mínima Varianza:')\n",
    "print('-'*len('Cartera de Mínima Varianza:'))\n",
    "\n",
    "for k,v in cartera_mv.items():\n",
    "    print(k,v.round(3))\n",
    "\n",
    "print('Retorno: ',ret_mv.round(3))\n",
    "print('Volatilidad: ',vol_mv.round(3))\n",
    "print('Ratio de Sharpe: ',sharpe_mv.round(3))\n",
    "    "
   ]
  },
  {
   "cell_type": "code",
   "execution_count": 54,
   "id": "87ac46d2",
   "metadata": {},
   "outputs": [],
   "source": [
    "portfolio_minv = pd.Series(np.dot(log_returns , optv['x']),index=log_returns.index)"
   ]
  },
  {
   "cell_type": "markdown",
   "id": "79354e96",
   "metadata": {},
   "source": [
    "## Resolviendo con mañas y sin matemática"
   ]
  },
  {
   "cell_type": "code",
   "execution_count": 55,
   "id": "d76dfca2-374f-4dfd-8b95-db29645afa10",
   "metadata": {},
   "outputs": [],
   "source": [
    "import random\n"
   ]
  },
  {
   "cell_type": "code",
   "execution_count": 56,
   "id": "595b1fee",
   "metadata": {},
   "outputs": [
    {
     "name": "stdout",
     "output_type": "stream",
     "text": [
      "Wall time: 7.43 s\n"
     ]
    }
   ],
   "source": [
    "%%time\n",
    "p_pond= []\n",
    "p_ret = []\n",
    "p_vol = []\n",
    "\n",
    "for p in range (10000):  \n",
    "    pond = np.random.random(noa)  \n",
    "    pond /= np.sum(pond)\n",
    "    p_pond.append(pond)\n",
    "    p_ret.append(port_ret(pond))\n",
    "    p_vol.append(port_vol(pond))\n",
    "    \n",
    "prets = np.array(p_ret)\n",
    "pvols = np.array(p_vol)"
   ]
  },
  {
   "cell_type": "code",
   "execution_count": 57,
   "id": "2746dbae-42de-434f-9426-07a9944f629e",
   "metadata": {},
   "outputs": [],
   "source": [
    "result = list(zip(p_pond,p_ret,p_vol))"
   ]
  },
  {
   "cell_type": "code",
   "execution_count": 58,
   "id": "c29473da-64dc-49e9-b99b-7833fac4fdcc",
   "metadata": {},
   "outputs": [],
   "source": [
    "result = pd.DataFrame(result)"
   ]
  },
  {
   "cell_type": "code",
   "execution_count": 59,
   "id": "385cb802-bb20-48f9-b678-f5b81fef48d4",
   "metadata": {},
   "outputs": [],
   "source": [
    "result.columns=['ponderaciones','ret_log','volatilidad']"
   ]
  },
  {
   "cell_type": "code",
   "execution_count": 60,
   "id": "c49d7aa4-f0da-49db-a53e-b732aa2ba023",
   "metadata": {},
   "outputs": [
    {
     "data": {
      "text/html": [
       "<div>\n",
       "<style scoped>\n",
       "    .dataframe tbody tr th:only-of-type {\n",
       "        vertical-align: middle;\n",
       "    }\n",
       "\n",
       "    .dataframe tbody tr th {\n",
       "        vertical-align: top;\n",
       "    }\n",
       "\n",
       "    .dataframe thead th {\n",
       "        text-align: right;\n",
       "    }\n",
       "</style>\n",
       "<table border=\"1\" class=\"dataframe\">\n",
       "  <thead>\n",
       "    <tr style=\"text-align: right;\">\n",
       "      <th></th>\n",
       "      <th>ponderaciones</th>\n",
       "      <th>ret_log</th>\n",
       "      <th>volatilidad</th>\n",
       "      <th>sharpe</th>\n",
       "    </tr>\n",
       "  </thead>\n",
       "  <tbody>\n",
       "    <tr>\n",
       "      <th>0</th>\n",
       "      <td>[0.09029934038818688, 0.3329022847613796, 0.30...</td>\n",
       "      <td>0.430881</td>\n",
       "      <td>0.354213</td>\n",
       "      <td>1.216445</td>\n",
       "    </tr>\n",
       "    <tr>\n",
       "      <th>1</th>\n",
       "      <td>[0.23870133501042123, 0.13427806022315886, 0.3...</td>\n",
       "      <td>0.341340</td>\n",
       "      <td>0.276921</td>\n",
       "      <td>1.232625</td>\n",
       "    </tr>\n",
       "    <tr>\n",
       "      <th>2</th>\n",
       "      <td>[0.2237263766822794, 0.30972059374506855, 0.01...</td>\n",
       "      <td>0.427075</td>\n",
       "      <td>0.347668</td>\n",
       "      <td>1.228398</td>\n",
       "    </tr>\n",
       "    <tr>\n",
       "      <th>3</th>\n",
       "      <td>[0.30508771444278854, 0.15988269649425213, 0.0...</td>\n",
       "      <td>0.381784</td>\n",
       "      <td>0.314758</td>\n",
       "      <td>1.212945</td>\n",
       "    </tr>\n",
       "    <tr>\n",
       "      <th>4</th>\n",
       "      <td>[0.19349237962016805, 0.15866839264037177, 0.2...</td>\n",
       "      <td>0.372595</td>\n",
       "      <td>0.303701</td>\n",
       "      <td>1.226849</td>\n",
       "    </tr>\n",
       "    <tr>\n",
       "      <th>5</th>\n",
       "      <td>[0.23700456942486697, 0.02103685364307939, 0.2...</td>\n",
       "      <td>0.317844</td>\n",
       "      <td>0.279802</td>\n",
       "      <td>1.135959</td>\n",
       "    </tr>\n",
       "    <tr>\n",
       "      <th>6</th>\n",
       "      <td>[0.28100418581667985, 0.1406391225091675, 0.26...</td>\n",
       "      <td>0.321178</td>\n",
       "      <td>0.263279</td>\n",
       "      <td>1.219914</td>\n",
       "    </tr>\n",
       "    <tr>\n",
       "      <th>7</th>\n",
       "      <td>[0.14899335055924268, 0.09413285662265308, 0.0...</td>\n",
       "      <td>0.365295</td>\n",
       "      <td>0.325943</td>\n",
       "      <td>1.120731</td>\n",
       "    </tr>\n",
       "    <tr>\n",
       "      <th>8</th>\n",
       "      <td>[0.2059167825253057, 0.2219745049416795, 0.188...</td>\n",
       "      <td>0.383245</td>\n",
       "      <td>0.307461</td>\n",
       "      <td>1.246484</td>\n",
       "    </tr>\n",
       "  </tbody>\n",
       "</table>\n",
       "</div>"
      ],
      "text/plain": [
       "                                       ponderaciones   ret_log  volatilidad  \\\n",
       "0  [0.09029934038818688, 0.3329022847613796, 0.30...  0.430881     0.354213   \n",
       "1  [0.23870133501042123, 0.13427806022315886, 0.3...  0.341340     0.276921   \n",
       "2  [0.2237263766822794, 0.30972059374506855, 0.01...  0.427075     0.347668   \n",
       "3  [0.30508771444278854, 0.15988269649425213, 0.0...  0.381784     0.314758   \n",
       "4  [0.19349237962016805, 0.15866839264037177, 0.2...  0.372595     0.303701   \n",
       "5  [0.23700456942486697, 0.02103685364307939, 0.2...  0.317844     0.279802   \n",
       "6  [0.28100418581667985, 0.1406391225091675, 0.26...  0.321178     0.263279   \n",
       "7  [0.14899335055924268, 0.09413285662265308, 0.0...  0.365295     0.325943   \n",
       "8  [0.2059167825253057, 0.2219745049416795, 0.188...  0.383245     0.307461   \n",
       "\n",
       "     sharpe  \n",
       "0  1.216445  \n",
       "1  1.232625  \n",
       "2  1.228398  \n",
       "3  1.212945  \n",
       "4  1.226849  \n",
       "5  1.135959  \n",
       "6  1.219914  \n",
       "7  1.120731  \n",
       "8  1.246484  "
      ]
     },
     "execution_count": 60,
     "metadata": {},
     "output_type": "execute_result"
    }
   ],
   "source": [
    "result['sharpe']=result.ret_log / result.volatilidad\n",
    "result.head(9)"
   ]
  },
  {
   "cell_type": "code",
   "execution_count": 61,
   "id": "36e0e1fd",
   "metadata": {},
   "outputs": [
    {
     "data": {
      "text/plain": [
       "0.2412854778199424"
      ]
     },
     "execution_count": 61,
     "metadata": {},
     "output_type": "execute_result"
    }
   ],
   "source": [
    "result.volatilidad.min()"
   ]
  },
  {
   "cell_type": "code",
   "execution_count": 62,
   "id": "e97e09e5",
   "metadata": {},
   "outputs": [
    {
     "data": {
      "text/plain": [
       "8499"
      ]
     },
     "execution_count": 62,
     "metadata": {},
     "output_type": "execute_result"
    }
   ],
   "source": [
    "result.volatilidad.idxmin()"
   ]
  },
  {
   "cell_type": "code",
   "execution_count": 63,
   "id": "0afe080b",
   "metadata": {},
   "outputs": [
    {
     "data": {
      "text/plain": [
       "1.2865627452909163"
      ]
     },
     "execution_count": 63,
     "metadata": {},
     "output_type": "execute_result"
    }
   ],
   "source": [
    "result.sharpe.max()"
   ]
  },
  {
   "cell_type": "code",
   "execution_count": 64,
   "id": "11702c6d",
   "metadata": {},
   "outputs": [
    {
     "data": {
      "text/plain": [
       "3930"
      ]
     },
     "execution_count": 64,
     "metadata": {},
     "output_type": "execute_result"
    }
   ],
   "source": [
    "result.sharpe.idxmax()"
   ]
  },
  {
   "cell_type": "code",
   "execution_count": 65,
   "id": "8b0cc7a0",
   "metadata": {},
   "outputs": [
    {
     "data": {
      "text/plain": [
       "ponderaciones    [0.5082578389729161, 0.21535365663466421, 0.10...\n",
       "ret_log                                                   0.394381\n",
       "volatilidad                                               0.306539\n",
       "sharpe                                                    1.286563\n",
       "Name: 3930, dtype: object"
      ]
     },
     "execution_count": 65,
     "metadata": {},
     "output_type": "execute_result"
    }
   ],
   "source": [
    "result.loc[result.sharpe.idxmax()]\n"
   ]
  },
  {
   "cell_type": "code",
   "execution_count": 66,
   "id": "542e32d6",
   "metadata": {},
   "outputs": [
    {
     "name": "stdout",
     "output_type": "stream",
     "text": [
      "Cartera de Máximo Sharpe:\n",
      "-------------------------\n",
      "Activos en cartera:  ['AAPL', 'TSLA', 'AMZN', 'BAC', 'AMD']\n",
      "Proporción activos en cartera:  [0.5083 0.2154 0.1077 0.0221 0.1465]\n",
      "Retorno:  0.39438146062580587\n",
      "Volatilidad:  0.3065388470708661\n",
      "Ratio de Sharpe:  1.2865627452909163\n"
     ]
    }
   ],
   "source": [
    "print('Cartera de Máximo Sharpe:')\n",
    "print('-'*len('Cartera de Máximo Sharpe:'))\n",
    "\n",
    "print('Activos en cartera: ', tickers)\n",
    "print('Proporción activos en cartera: ', result.ponderaciones[result.sharpe.idxmax()].round(4))\n",
    "print('Retorno: ', result.ret_log[result.sharpe.idxmax()])\n",
    "print('Volatilidad: ',result.volatilidad[result.sharpe.idxmax()])\n",
    "print('Ratio de Sharpe: ',result.sharpe[result.sharpe.idxmax()])\n",
    "\n",
    "\n"
   ]
  },
  {
   "cell_type": "code",
   "execution_count": 67,
   "id": "8dc1370f",
   "metadata": {},
   "outputs": [],
   "source": [
    "op_vol=result.loc[result.sharpe.idxmax(),'volatilidad']\n",
    "op_ret=result.loc[result.sharpe.idxmax(),'ret_log']"
   ]
  },
  {
   "cell_type": "code",
   "execution_count": 68,
   "id": "f071ead9",
   "metadata": {},
   "outputs": [
    {
     "data": {
      "text/plain": [
       "Text(0.3065388470708661, 0.39438146062580587, 'Optimo')"
      ]
     },
     "execution_count": 68,
     "metadata": {},
     "output_type": "execute_result"
    },
    {
     "data": {
      "image/png": "[encoded data removed]",
      "text/plain": [
       "<Figure size 1000x600 with 2 Axes>"
      ]
     },
     "metadata": {},
     "output_type": "display_data"
    }
   ],
   "source": [
    "plt.figure(figsize=(10, 6))\n",
    "plt.scatter(result.volatilidad, result.ret_log, c=result.sharpe , s=1, cmap='coolwarm')\n",
    "plt.xlabel('volatilidad esperada')\n",
    "plt.ylabel('retorno esperado')\n",
    "plt.colorbar(label='Sharpe ratio')\n",
    "\n",
    "plt.scatter(op_vol, op_ret, c='tab:blue', alpha=0.5, s=1000) \n",
    "plt.text(op_vol, op_ret, 'Optimo', fontsize=9, c='k', ha='center', va='center') \n"
   ]
  }
 ],
 "metadata": {
  "kernelspec": {
   "display_name": "Python 3 (ipykernel)",
   "language": "python",
   "name": "python3"
  },
  "language_info": {
   "codemirror_mode": {
    "name": "ipython",
    "version": 3
   },
   "file_extension": ".py",
   "mimetype": "text/x-python",
   "name": "python",
   "nbconvert_exporter": "python",
   "pygments_lexer": "ipython3",
   "version": "3.9.13"
  }
 },
 "nbformat": 4,
 "nbformat_minor": 5
}

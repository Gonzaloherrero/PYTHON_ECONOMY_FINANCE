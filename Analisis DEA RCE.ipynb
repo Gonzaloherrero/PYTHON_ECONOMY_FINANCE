{
 "cells": [
  {
   "cell_type": "code",
   "execution_count": 1,
   "metadata": {
    "id": "GQOsGhMk8x-B"
   },
   "outputs": [],
   "source": [
    "import numpy as np\n",
    "from scipy.optimize import linprog"
   ]
  },
  {
   "cell_type": "markdown",
   "metadata": {
    "id": "J65PzIJO8_zT"
   },
   "source": [
    "# medida de eficiencia orientada a insumos RCE"
   ]
  },
  {
   "cell_type": "code",
   "execution_count": 2,
   "metadata": {
    "id": "3QL0u4xu9FzZ"
   },
   "outputs": [],
   "source": [
    "# Elegimos la empresa A\n",
    "#Función Objetivo\n",
    "c = [1 , 0 , 0 , 0 , 0 , 0 , 0]\n",
    "\n",
    "a = [[0 , -14 , -25 , -8 , -25 , -40 , -24],\n",
    "    [0 , -20 , -42 , -30 , -8 , -22 , -30],\n",
    "    [-8 , 8 , 11 , 14 , 12 , 11 , 18],\n",
    "    [-8 , 8 , 15 , 12 , 13 , 18, 20]]\n",
    "\n",
    "b= [-14 , -20 , 0 , 0]\n",
    "\n",
    "\n",
    "bounds = [(None , None)] + [(0 , None)]*6"
   ]
  },
  {
   "cell_type": "code",
   "execution_count": 3,
   "metadata": {
    "colab": {
     "base_uri": "https://localhost:8080/"
    },
    "id": "KH_N-F7N9dCJ",
    "outputId": "ca6715a9-1cc8-445d-84fc-1c2ba1245b0b"
   },
   "outputs": [
    {
     "name": "stderr",
     "output_type": "stream",
     "text": [
      "C:\\Users\\User\\AppData\\Local\\Temp\\ipykernel_28152\\358155259.py:1: DeprecationWarning: `method='simplex'` is deprecated and will be removed in SciPy 1.11.0. Please use one of the HiGHS solvers (e.g. `method='highs'`) in new code.\n",
      "  res_RCE = linprog (c , A_ub=a , b_ub=b , bounds = bounds, method='simplex')\n"
     ]
    }
   ],
   "source": [
    "res_RCE = linprog (c , A_ub=a , b_ub=b , bounds = bounds, method='simplex')\n"
   ]
  },
  {
   "cell_type": "code",
   "execution_count": 4,
   "metadata": {
    "colab": {
     "base_uri": "https://localhost:8080/"
    },
    "id": "PUDWhU1D9vq_",
    "outputId": "8cd64233-47b8-48e1-c9a3-bdc3fac05fe2"
   },
   "outputs": [
    {
     "data": {
      "text/plain": [
       "     con: array([], dtype=float64)\n",
       "     fun: 0.9915929203539823\n",
       " message: 'Optimization terminated successfully.'\n",
       "     nit: 7\n",
       "   slack: array([-1.77635684e-15,  0.00000000e+00,  2.28672566e+00,  8.88178420e-16])\n",
       "  status: 0\n",
       " success: True\n",
       "       x: array([0.99159292, 0.        , 0.43539823, 0.        , 0.        ,\n",
       "       0.07787611, 0.        ])"
      ]
     },
     "execution_count": 4,
     "metadata": {},
     "output_type": "execute_result"
    }
   ],
   "source": [
    "res_RCE"
   ]
  },
  {
   "cell_type": "code",
   "execution_count": 5,
   "metadata": {
    "id": "8D5whXYl-DbK"
   },
   "outputs": [],
   "source": [
    "theta_empresaA=res_RCE.fun\n"
   ]
  },
  {
   "cell_type": "code",
   "execution_count": 6,
   "metadata": {
    "colab": {
     "base_uri": "https://localhost:8080/"
    },
    "id": "WIv0wVCD-KMV",
    "outputId": "15b2df98-6bec-43fc-e216-02f5d33becff"
   },
   "outputs": [
    {
     "name": "stdout",
     "output_type": "stream",
     "text": [
      "La eficiencia Theta de la firma B es:0.9915929203539823\n"
     ]
    }
   ],
   "source": [
    "print(f\"La eficiencia Theta de la firma B es:{theta_empresaA}\")"
   ]
  },
  {
   "cell_type": "code",
   "execution_count": 7,
   "metadata": {
    "colab": {
     "base_uri": "https://localhost:8080/"
    },
    "id": "dYcXt08P-R1q",
    "outputId": "e9c59ba4-934a-46a5-90f5-f5ce3b935a19"
   },
   "outputs": [
    {
     "name": "stdout",
     "output_type": "stream",
     "text": [
      "Para ser eficiente, la firma B debe reducir sus insumos:0.008407079646017723\n"
     ]
    }
   ],
   "source": [
    "print(f\"Para ser eficiente, la firma B debe reducir sus insumos:{1-theta_empresaA}\")"
   ]
  },
  {
   "cell_type": "markdown",
   "metadata": {
    "id": "T-oTJqQF_ap3"
   },
   "source": [
    "medida de eficiencia orientada a insumos RCV"
   ]
  },
  {
   "cell_type": "code",
   "execution_count": 8,
   "metadata": {
    "id": "2hd_lepf-s6A"
   },
   "outputs": [],
   "source": [
    "# Elegimos la empresa A\n",
    "#Función Objetivo\n",
    "c = [1 , 0 , 0 , 0 , 0 , 0 , 0]\n",
    "\n",
    "a = [[0 , -14 , -25 , -8 , -25 , -40 , -24],\n",
    "    [0 , -20 , -42 , -30 , -8 , -22 , -30],\n",
    "    [-8 , 8 , 11 , 14 , 12 , 11 , 18],\n",
    "    [-8 , 8 , 15 , 12 , 13 , 18, 20]]\n",
    "\n",
    "b= [-14 , -20 , 0 , 0]\n",
    "\n",
    "A_eq=np.array([[ 0 , 1 , 1 , 1 , 1 , 1 , 1],\n",
    "               [ 0 , 0 , 0 , 0 , 0 , 0 , 0]])\n",
    "\n",
    "b_eq=np.array([[1],\n",
    "             [0]])\n",
    "\n",
    "bounds = [(None , None)] + [(0 , None)]*6"
   ]
  },
  {
   "cell_type": "code",
   "execution_count": 9,
   "metadata": {
    "colab": {
     "base_uri": "https://localhost:8080/"
    },
    "id": "6zqEGT63-s6C",
    "outputId": "a390ff39-2b2d-4af5-d8b1-ecec1144b16c"
   },
   "outputs": [
    {
     "name": "stderr",
     "output_type": "stream",
     "text": [
      "C:\\Users\\User\\AppData\\Local\\Temp\\ipykernel_28152\\1372492056.py:1: DeprecationWarning: `method='simplex'` is deprecated and will be removed in SciPy 1.11.0. Please use one of the HiGHS solvers (e.g. `method='highs'`) in new code.\n",
      "  res_RVE = linprog (c , A_ub=a , b_ub=b , A_eq=A_eq , b_eq=b_eq, bounds = bounds, method='simplex')\n"
     ]
    }
   ],
   "source": [
    "res_RVE = linprog (c , A_ub=a , b_ub=b , A_eq=A_eq , b_eq=b_eq, bounds = bounds, method='simplex')\n"
   ]
  },
  {
   "cell_type": "code",
   "execution_count": 10,
   "metadata": {
    "colab": {
     "base_uri": "https://localhost:8080/"
    },
    "id": "5Yz7QzUF-s6D",
    "outputId": "3bdc2915-35ef-42b9-d015-b80d6ce2a55b"
   },
   "outputs": [
    {
     "data": {
      "text/plain": [
       "     con: array([0., 0.])\n",
       "     fun: 1.0\n",
       " message: 'Optimization terminated successfully.'\n",
       "     nit: 12\n",
       "   slack: array([0., 0., 0., 0.])\n",
       "  status: 0\n",
       " success: True\n",
       "       x: array([1., 1., 0., 0., 0., 0., 0.])"
      ]
     },
     "execution_count": 10,
     "metadata": {},
     "output_type": "execute_result"
    }
   ],
   "source": [
    "res_RVE"
   ]
  },
  {
   "cell_type": "code",
   "execution_count": 11,
   "metadata": {
    "id": "WC01jOlv-s6E"
   },
   "outputs": [],
   "source": [
    "theta_empresaA_RVE=res_RVE.fun\n"
   ]
  },
  {
   "cell_type": "code",
   "execution_count": 12,
   "metadata": {
    "colab": {
     "base_uri": "https://localhost:8080/"
    },
    "id": "Y7HP8NPO-s6F",
    "outputId": "2200a83f-ee8e-4ba6-ef3a-ba0c523119c2"
   },
   "outputs": [
    {
     "name": "stdout",
     "output_type": "stream",
     "text": [
      "La eficiencia Theta de la firma B es:1.0\n"
     ]
    }
   ],
   "source": [
    "print(f\"La eficiencia Theta de la firma B es:{theta_empresaA_RVE}\")"
   ]
  },
  {
   "cell_type": "code",
   "execution_count": 13,
   "metadata": {
    "colab": {
     "base_uri": "https://localhost:8080/"
    },
    "id": "y_JUZWUp-s6G",
    "outputId": "e6400d08-33ac-43fc-8bc3-a953fb545d82"
   },
   "outputs": [
    {
     "name": "stdout",
     "output_type": "stream",
     "text": [
      "Para ser eficiente, la firma B debe reducir sus insumos:0.0\n"
     ]
    }
   ],
   "source": [
    "print(f\"Para ser eficiente, la firma B debe reducir sus insumos:{1-theta_empresaA_RVE}\")"
   ]
  },
  {
   "cell_type": "markdown",
   "metadata": {
    "id": "YL8jcHvg_vlu"
   },
   "source": [
    "punto d: medida de eficiencia"
   ]
  },
  {
   "cell_type": "code",
   "execution_count": 14,
   "metadata": {
    "colab": {
     "base_uri": "https://localhost:8080/"
    },
    "id": "-joEBmHO_x7k",
    "outputId": "8b97c6ae-ae92-4f70-bd09-1a34baea962d"
   },
   "outputs": [
    {
     "data": {
      "text/plain": [
       "0.9915929203539823"
      ]
     },
     "execution_count": 14,
     "metadata": {},
     "output_type": "execute_result"
    }
   ],
   "source": [
    "Eficiencia_de_escala_firmaB=theta_empresaA/theta_empresaA_RVE\n",
    "Eficiencia_de_escala_firmaB"
   ]
  }
 ],
 "metadata": {
  "colab": {
   "provenance": []
  },
  "kernelspec": {
   "display_name": "Python 3 (ipykernel)",
   "language": "python",
   "name": "python3"
  },
  "language_info": {
   "codemirror_mode": {
    "name": "ipython",
    "version": 3
   },
   "file_extension": ".py",
   "mimetype": "text/x-python",
   "name": "python",
   "nbconvert_exporter": "python",
   "pygments_lexer": "ipython3",
   "version": "3.9.13"
  }
 },
 "nbformat": 4,
 "nbformat_minor": 1
}

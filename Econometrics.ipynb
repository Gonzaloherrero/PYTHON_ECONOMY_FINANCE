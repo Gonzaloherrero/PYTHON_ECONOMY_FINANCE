{
 "cells": [
  {
   "cell_type": "markdown",
   "id": "907904dc-309a-4340-9c1b-47486fa966b2",
   "metadata": {},
   "source": [
    "# ECONOMETRIA"
   ]
  },
  {
   "cell_type": "code",
   "execution_count": 3,
   "id": "3ff0e3ab-8514-4390-ba28-815abfd4c5c4",
   "metadata": {},
   "outputs": [],
   "source": [
    "import pandas as pd\n",
    "import numpy as np\n",
    "import statsmodels.api as sm\n",
    "import matplotlib.pyplot as plt\n",
    "from linearmodels.iv import IV2SLS as IV"
   ]
  },
  {
   "cell_type": "code",
   "execution_count": 4,
   "id": "4ec09470-02a1-4bc9-857f-c5e1211bad5c",
   "metadata": {},
   "outputs": [],
   "source": [
    "import wooldridge"
   ]
  },
  {
   "cell_type": "code",
   "execution_count": 5,
   "id": "ae099a5d-bc3d-4869-8958-5922c9f4f373",
   "metadata": {},
   "outputs": [],
   "source": [
    "df = wooldridge.data('mroz')"
   ]
  },
  {
   "cell_type": "code",
   "execution_count": 6,
   "id": "4781416f-fe81-47a0-9040-edcfb12a9c21",
   "metadata": {},
   "outputs": [
    {
     "data": {
      "text/html": [
       "<div>\n",
       "<style scoped>\n",
       "    .dataframe tbody tr th:only-of-type {\n",
       "        vertical-align: middle;\n",
       "    }\n",
       "\n",
       "    .dataframe tbody tr th {\n",
       "        vertical-align: top;\n",
       "    }\n",
       "\n",
       "    .dataframe thead th {\n",
       "        text-align: right;\n",
       "    }\n",
       "</style>\n",
       "<table border=\"1\" class=\"dataframe\">\n",
       "  <thead>\n",
       "    <tr style=\"text-align: right;\">\n",
       "      <th></th>\n",
       "      <th>inlf</th>\n",
       "      <th>hours</th>\n",
       "      <th>kidslt6</th>\n",
       "      <th>kidsge6</th>\n",
       "      <th>age</th>\n",
       "      <th>educ</th>\n",
       "      <th>wage</th>\n",
       "      <th>repwage</th>\n",
       "      <th>hushrs</th>\n",
       "      <th>husage</th>\n",
       "      <th>...</th>\n",
       "      <th>faminc</th>\n",
       "      <th>mtr</th>\n",
       "      <th>motheduc</th>\n",
       "      <th>fatheduc</th>\n",
       "      <th>unem</th>\n",
       "      <th>city</th>\n",
       "      <th>exper</th>\n",
       "      <th>nwifeinc</th>\n",
       "      <th>lwage</th>\n",
       "      <th>expersq</th>\n",
       "    </tr>\n",
       "  </thead>\n",
       "  <tbody>\n",
       "    <tr>\n",
       "      <th>0</th>\n",
       "      <td>1</td>\n",
       "      <td>1610</td>\n",
       "      <td>1</td>\n",
       "      <td>0</td>\n",
       "      <td>32</td>\n",
       "      <td>12</td>\n",
       "      <td>3.3540</td>\n",
       "      <td>2.65</td>\n",
       "      <td>2708</td>\n",
       "      <td>34</td>\n",
       "      <td>...</td>\n",
       "      <td>16310.0</td>\n",
       "      <td>0.7215</td>\n",
       "      <td>12</td>\n",
       "      <td>7</td>\n",
       "      <td>5.0</td>\n",
       "      <td>0</td>\n",
       "      <td>14</td>\n",
       "      <td>10.910060</td>\n",
       "      <td>1.210154</td>\n",
       "      <td>196</td>\n",
       "    </tr>\n",
       "    <tr>\n",
       "      <th>1</th>\n",
       "      <td>1</td>\n",
       "      <td>1656</td>\n",
       "      <td>0</td>\n",
       "      <td>2</td>\n",
       "      <td>30</td>\n",
       "      <td>12</td>\n",
       "      <td>1.3889</td>\n",
       "      <td>2.65</td>\n",
       "      <td>2310</td>\n",
       "      <td>30</td>\n",
       "      <td>...</td>\n",
       "      <td>21800.0</td>\n",
       "      <td>0.6615</td>\n",
       "      <td>7</td>\n",
       "      <td>7</td>\n",
       "      <td>11.0</td>\n",
       "      <td>1</td>\n",
       "      <td>5</td>\n",
       "      <td>19.499981</td>\n",
       "      <td>0.328512</td>\n",
       "      <td>25</td>\n",
       "    </tr>\n",
       "    <tr>\n",
       "      <th>2</th>\n",
       "      <td>1</td>\n",
       "      <td>1980</td>\n",
       "      <td>1</td>\n",
       "      <td>3</td>\n",
       "      <td>35</td>\n",
       "      <td>12</td>\n",
       "      <td>4.5455</td>\n",
       "      <td>4.04</td>\n",
       "      <td>3072</td>\n",
       "      <td>40</td>\n",
       "      <td>...</td>\n",
       "      <td>21040.0</td>\n",
       "      <td>0.6915</td>\n",
       "      <td>12</td>\n",
       "      <td>7</td>\n",
       "      <td>5.0</td>\n",
       "      <td>0</td>\n",
       "      <td>15</td>\n",
       "      <td>12.039910</td>\n",
       "      <td>1.514138</td>\n",
       "      <td>225</td>\n",
       "    </tr>\n",
       "    <tr>\n",
       "      <th>3</th>\n",
       "      <td>1</td>\n",
       "      <td>456</td>\n",
       "      <td>0</td>\n",
       "      <td>3</td>\n",
       "      <td>34</td>\n",
       "      <td>12</td>\n",
       "      <td>1.0965</td>\n",
       "      <td>3.25</td>\n",
       "      <td>1920</td>\n",
       "      <td>53</td>\n",
       "      <td>...</td>\n",
       "      <td>7300.0</td>\n",
       "      <td>0.7815</td>\n",
       "      <td>7</td>\n",
       "      <td>7</td>\n",
       "      <td>5.0</td>\n",
       "      <td>0</td>\n",
       "      <td>6</td>\n",
       "      <td>6.799996</td>\n",
       "      <td>0.092123</td>\n",
       "      <td>36</td>\n",
       "    </tr>\n",
       "    <tr>\n",
       "      <th>4</th>\n",
       "      <td>1</td>\n",
       "      <td>1568</td>\n",
       "      <td>1</td>\n",
       "      <td>2</td>\n",
       "      <td>31</td>\n",
       "      <td>14</td>\n",
       "      <td>4.5918</td>\n",
       "      <td>3.60</td>\n",
       "      <td>2000</td>\n",
       "      <td>32</td>\n",
       "      <td>...</td>\n",
       "      <td>27300.0</td>\n",
       "      <td>0.6215</td>\n",
       "      <td>12</td>\n",
       "      <td>14</td>\n",
       "      <td>9.5</td>\n",
       "      <td>1</td>\n",
       "      <td>7</td>\n",
       "      <td>20.100058</td>\n",
       "      <td>1.524272</td>\n",
       "      <td>49</td>\n",
       "    </tr>\n",
       "  </tbody>\n",
       "</table>\n",
       "<p>5 rows × 22 columns</p>\n",
       "</div>"
      ],
      "text/plain": [
       "   inlf  hours  kidslt6  kidsge6  age  educ    wage  repwage  hushrs  husage  \\\n",
       "0     1   1610        1        0   32    12  3.3540     2.65    2708      34   \n",
       "1     1   1656        0        2   30    12  1.3889     2.65    2310      30   \n",
       "2     1   1980        1        3   35    12  4.5455     4.04    3072      40   \n",
       "3     1    456        0        3   34    12  1.0965     3.25    1920      53   \n",
       "4     1   1568        1        2   31    14  4.5918     3.60    2000      32   \n",
       "\n",
       "   ...   faminc     mtr  motheduc  fatheduc  unem  city  exper   nwifeinc  \\\n",
       "0  ...  16310.0  0.7215        12         7   5.0     0     14  10.910060   \n",
       "1  ...  21800.0  0.6615         7         7  11.0     1      5  19.499981   \n",
       "2  ...  21040.0  0.6915        12         7   5.0     0     15  12.039910   \n",
       "3  ...   7300.0  0.7815         7         7   5.0     0      6   6.799996   \n",
       "4  ...  27300.0  0.6215        12        14   9.5     1      7  20.100058   \n",
       "\n",
       "      lwage  expersq  \n",
       "0  1.210154      196  \n",
       "1  0.328512       25  \n",
       "2  1.514138      225  \n",
       "3  0.092123       36  \n",
       "4  1.524272       49  \n",
       "\n",
       "[5 rows x 22 columns]"
      ]
     },
     "execution_count": 6,
     "metadata": {},
     "output_type": "execute_result"
    }
   ],
   "source": [
    "df.head()"
   ]
  },
  {
   "cell_type": "code",
   "execution_count": 7,
   "id": "9b5b3637-9f89-45f1-a66f-d8c51d10cfaf",
   "metadata": {},
   "outputs": [
    {
     "data": {
      "text/plain": [
       "(753, 22)"
      ]
     },
     "execution_count": 7,
     "metadata": {},
     "output_type": "execute_result"
    }
   ],
   "source": [
    "df.shape"
   ]
  },
  {
   "cell_type": "code",
   "execution_count": 8,
   "id": "fe2ccafb-d19b-447d-9152-8c95c185e507",
   "metadata": {
    "tags": []
   },
   "outputs": [
    {
     "data": {
      "text/plain": [
       "inlf          0\n",
       "hours         0\n",
       "kidslt6       0\n",
       "kidsge6       0\n",
       "age           0\n",
       "educ          0\n",
       "wage        325\n",
       "repwage       0\n",
       "hushrs        0\n",
       "husage        0\n",
       "huseduc       0\n",
       "huswage       0\n",
       "faminc        0\n",
       "mtr           0\n",
       "motheduc      0\n",
       "fatheduc      0\n",
       "unem          0\n",
       "city          0\n",
       "exper         0\n",
       "nwifeinc      0\n",
       "lwage       325\n",
       "expersq       0\n",
       "dtype: int64"
      ]
     },
     "execution_count": 8,
     "metadata": {},
     "output_type": "execute_result"
    }
   ],
   "source": [
    "df.isna().sum()"
   ]
  },
  {
   "cell_type": "code",
   "execution_count": 9,
   "id": "ba5b826d-6ae9-4833-b41d-3d680b4592d3",
   "metadata": {},
   "outputs": [],
   "source": [
    "#df = df[df['lwage'].notna()]\n",
    "df = df.dropna()"
   ]
  },
  {
   "cell_type": "code",
   "execution_count": 10,
   "id": "7b0760de-d0e5-4ac5-91d4-1b68b3838eaf",
   "metadata": {},
   "outputs": [
    {
     "name": "stdout",
     "output_type": "stream",
     "text": [
      "<class 'pandas.core.frame.DataFrame'>\n",
      "Int64Index: 428 entries, 0 to 427\n",
      "Data columns (total 22 columns):\n",
      " #   Column    Non-Null Count  Dtype  \n",
      "---  ------    --------------  -----  \n",
      " 0   inlf      428 non-null    int64  \n",
      " 1   hours     428 non-null    int64  \n",
      " 2   kidslt6   428 non-null    int64  \n",
      " 3   kidsge6   428 non-null    int64  \n",
      " 4   age       428 non-null    int64  \n",
      " 5   educ      428 non-null    int64  \n",
      " 6   wage      428 non-null    float64\n",
      " 7   repwage   428 non-null    float64\n",
      " 8   hushrs    428 non-null    int64  \n",
      " 9   husage    428 non-null    int64  \n",
      " 10  huseduc   428 non-null    int64  \n",
      " 11  huswage   428 non-null    float64\n",
      " 12  faminc    428 non-null    float64\n",
      " 13  mtr       428 non-null    float64\n",
      " 14  motheduc  428 non-null    int64  \n",
      " 15  fatheduc  428 non-null    int64  \n",
      " 16  unem      428 non-null    float64\n",
      " 17  city      428 non-null    int64  \n",
      " 18  exper     428 non-null    int64  \n",
      " 19  nwifeinc  428 non-null    float64\n",
      " 20  lwage     428 non-null    float64\n",
      " 21  expersq   428 non-null    int64  \n",
      "dtypes: float64(8), int64(14)\n",
      "memory usage: 76.9 KB\n"
     ]
    }
   ],
   "source": [
    "df.info()"
   ]
  },
  {
   "cell_type": "code",
   "execution_count": 11,
   "id": "9fe8732a-653a-410e-9e5b-84169dc4782f",
   "metadata": {},
   "outputs": [
    {
     "data": {
      "text/plain": [
       "inlf        0\n",
       "hours       0\n",
       "kidslt6     0\n",
       "kidsge6     0\n",
       "age         0\n",
       "educ        0\n",
       "wage        0\n",
       "repwage     0\n",
       "hushrs      0\n",
       "husage      0\n",
       "huseduc     0\n",
       "huswage     0\n",
       "faminc      0\n",
       "mtr         0\n",
       "motheduc    0\n",
       "fatheduc    0\n",
       "unem        0\n",
       "city        0\n",
       "exper       0\n",
       "nwifeinc    0\n",
       "lwage       0\n",
       "expersq     0\n",
       "dtype: int64"
      ]
     },
     "execution_count": 11,
     "metadata": {},
     "output_type": "execute_result"
    }
   ],
   "source": [
    "df.isna().sum()"
   ]
  },
  {
   "cell_type": "markdown",
   "id": "74c09dde-e054-4b1d-836d-2648375d1c8a",
   "metadata": {},
   "source": [
    "## MC2E"
   ]
  },
  {
   "cell_type": "code",
   "execution_count": 12,
   "id": "b62eb47f-ffb8-4e60-8ca8-884ebea5203f",
   "metadata": {},
   "outputs": [],
   "source": [
    "Y1 = df['lwage']\n",
    "Y2 = df['educ']\n",
    "X = df[['exper' , 'expersq']]\n",
    "Z = df[['motheduc' , 'fatheduc']]"
   ]
  },
  {
   "cell_type": "code",
   "execution_count": 13,
   "id": "308461bd-854e-4d09-ad51-c262d11fd834",
   "metadata": {},
   "outputs": [],
   "source": [
    "exog_inst = [ X , Z]\n",
    "reg1e = pd.concat(exog_inst , axis=1)\n",
    "exog_MCO = [ X , Y2]\n",
    "regMCO =  pd.concat(exog_MCO , axis=1)"
   ]
  },
  {
   "cell_type": "code",
   "execution_count": 14,
   "id": "b1f38783-3a9a-43f4-b275-b69fe17c3aa3",
   "metadata": {},
   "outputs": [
    {
     "data": {
      "text/html": [
       "<div>\n",
       "<style scoped>\n",
       "    .dataframe tbody tr th:only-of-type {\n",
       "        vertical-align: middle;\n",
       "    }\n",
       "\n",
       "    .dataframe tbody tr th {\n",
       "        vertical-align: top;\n",
       "    }\n",
       "\n",
       "    .dataframe thead th {\n",
       "        text-align: right;\n",
       "    }\n",
       "</style>\n",
       "<table border=\"1\" class=\"dataframe\">\n",
       "  <thead>\n",
       "    <tr style=\"text-align: right;\">\n",
       "      <th></th>\n",
       "      <th>exper</th>\n",
       "      <th>expersq</th>\n",
       "      <th>motheduc</th>\n",
       "      <th>fatheduc</th>\n",
       "    </tr>\n",
       "  </thead>\n",
       "  <tbody>\n",
       "    <tr>\n",
       "      <th>0</th>\n",
       "      <td>14</td>\n",
       "      <td>196</td>\n",
       "      <td>12</td>\n",
       "      <td>7</td>\n",
       "    </tr>\n",
       "    <tr>\n",
       "      <th>1</th>\n",
       "      <td>5</td>\n",
       "      <td>25</td>\n",
       "      <td>7</td>\n",
       "      <td>7</td>\n",
       "    </tr>\n",
       "    <tr>\n",
       "      <th>2</th>\n",
       "      <td>15</td>\n",
       "      <td>225</td>\n",
       "      <td>12</td>\n",
       "      <td>7</td>\n",
       "    </tr>\n",
       "    <tr>\n",
       "      <th>3</th>\n",
       "      <td>6</td>\n",
       "      <td>36</td>\n",
       "      <td>7</td>\n",
       "      <td>7</td>\n",
       "    </tr>\n",
       "    <tr>\n",
       "      <th>4</th>\n",
       "      <td>7</td>\n",
       "      <td>49</td>\n",
       "      <td>12</td>\n",
       "      <td>14</td>\n",
       "    </tr>\n",
       "    <tr>\n",
       "      <th>...</th>\n",
       "      <td>...</td>\n",
       "      <td>...</td>\n",
       "      <td>...</td>\n",
       "      <td>...</td>\n",
       "    </tr>\n",
       "    <tr>\n",
       "      <th>423</th>\n",
       "      <td>2</td>\n",
       "      <td>4</td>\n",
       "      <td>7</td>\n",
       "      <td>7</td>\n",
       "    </tr>\n",
       "    <tr>\n",
       "      <th>424</th>\n",
       "      <td>21</td>\n",
       "      <td>441</td>\n",
       "      <td>7</td>\n",
       "      <td>7</td>\n",
       "    </tr>\n",
       "    <tr>\n",
       "      <th>425</th>\n",
       "      <td>22</td>\n",
       "      <td>484</td>\n",
       "      <td>7</td>\n",
       "      <td>7</td>\n",
       "    </tr>\n",
       "    <tr>\n",
       "      <th>426</th>\n",
       "      <td>14</td>\n",
       "      <td>196</td>\n",
       "      <td>12</td>\n",
       "      <td>16</td>\n",
       "    </tr>\n",
       "    <tr>\n",
       "      <th>427</th>\n",
       "      <td>7</td>\n",
       "      <td>49</td>\n",
       "      <td>12</td>\n",
       "      <td>12</td>\n",
       "    </tr>\n",
       "  </tbody>\n",
       "</table>\n",
       "<p>428 rows × 4 columns</p>\n",
       "</div>"
      ],
      "text/plain": [
       "     exper  expersq  motheduc  fatheduc\n",
       "0       14      196        12         7\n",
       "1        5       25         7         7\n",
       "2       15      225        12         7\n",
       "3        6       36         7         7\n",
       "4        7       49        12        14\n",
       "..     ...      ...       ...       ...\n",
       "423      2        4         7         7\n",
       "424     21      441         7         7\n",
       "425     22      484         7         7\n",
       "426     14      196        12        16\n",
       "427      7       49        12        12\n",
       "\n",
       "[428 rows x 4 columns]"
      ]
     },
     "execution_count": 14,
     "metadata": {},
     "output_type": "execute_result"
    }
   ],
   "source": [
    "reg1e"
   ]
  },
  {
   "cell_type": "code",
   "execution_count": 15,
   "id": "cb996b8f-0bb3-4506-ae81-df1c4cd40730",
   "metadata": {},
   "outputs": [],
   "source": [
    "model_1e = sm.OLS(df.educ, sm.add_constant(reg1e))"
   ]
  },
  {
   "cell_type": "code",
   "execution_count": 16,
   "id": "ba5ff5d4-f4ce-4922-894a-3da710c5c00d",
   "metadata": {},
   "outputs": [],
   "source": [
    "result_1e = model_1e.fit()"
   ]
  },
  {
   "cell_type": "code",
   "execution_count": 17,
   "id": "2a13e408-420b-4617-b358-c9bedf1b845f",
   "metadata": {},
   "outputs": [
    {
     "name": "stdout",
     "output_type": "stream",
     "text": [
      "                            OLS Regression Results                            \n",
      "==============================================================================\n",
      "Dep. Variable:                   educ   R-squared:                       0.211\n",
      "Model:                            OLS   Adj. R-squared:                  0.204\n",
      "Method:                 Least Squares   F-statistic:                     28.36\n",
      "Date:                Sat, 02 Sep 2023   Prob (F-statistic):           6.87e-21\n",
      "Time:                        18:49:43   Log-Likelihood:                -909.72\n",
      "No. Observations:                 428   AIC:                             1829.\n",
      "Df Residuals:                     423   BIC:                             1850.\n",
      "Df Model:                           4                                         \n",
      "Covariance Type:            nonrobust                                         \n",
      "==============================================================================\n",
      "                 coef    std err          t      P>|t|      [0.025      0.975]\n",
      "------------------------------------------------------------------------------\n",
      "const          9.1026      0.427     21.340      0.000       8.264       9.941\n",
      "exper          0.0452      0.040      1.124      0.262      -0.034       0.124\n",
      "expersq       -0.0010      0.001     -0.839      0.402      -0.003       0.001\n",
      "motheduc       0.1576      0.036      4.391      0.000       0.087       0.228\n",
      "fatheduc       0.1895      0.034      5.615      0.000       0.123       0.256\n",
      "==============================================================================\n",
      "Omnibus:                       10.903   Durbin-Watson:                   1.940\n",
      "Prob(Omnibus):                  0.004   Jarque-Bera (JB):               20.371\n",
      "Skew:                          -0.013   Prob(JB):                     3.77e-05\n",
      "Kurtosis:                       4.068   Cond. No.                     1.55e+03\n",
      "==============================================================================\n",
      "\n",
      "Notes:\n",
      "[1] Standard Errors assume that the covariance matrix of the errors is correctly specified.\n",
      "[2] The condition number is large, 1.55e+03. This might indicate that there are\n",
      "strong multicollinearity or other numerical problems.\n"
     ]
    }
   ],
   "source": [
    "print(result_1e.summary())"
   ]
  },
  {
   "cell_type": "code",
   "execution_count": 20,
   "id": "18090c4e-d442-4a14-a14e-1743bd845828",
   "metadata": {},
   "outputs": [
    {
     "name": "stdout",
     "output_type": "stream",
     "text": [
      "<F test: F=55.400300427777104, p=4.268908724631867e-22, df_denom=423, df_num=2>\n"
     ]
    }
   ],
   "source": [
    "test_F = result_1e.f_test('fatheduc = 0 , motheduc = 0 ' )\n",
    "\n",
    "print(test_F)"
   ]
  },
  {
   "cell_type": "code",
   "execution_count": 21,
   "id": "7198267a-a729-4cc2-8d4e-6b10f913cf87",
   "metadata": {},
   "outputs": [],
   "source": [
    "df['educ_hat'] = result_1e.predict()"
   ]
  },
  {
   "cell_type": "code",
   "execution_count": 22,
   "id": "b12651a6-e48b-46b6-89e5-e35706ac83a4",
   "metadata": {},
   "outputs": [],
   "source": [
    "reg2e = pd.concat([X , df.educ_hat] , axis=1 )"
   ]
  },
  {
   "cell_type": "code",
   "execution_count": 23,
   "id": "5a3cfed2-d102-45b5-90c5-13ea4536a6c8",
   "metadata": {},
   "outputs": [
    {
     "data": {
      "text/html": [
       "<div>\n",
       "<style scoped>\n",
       "    .dataframe tbody tr th:only-of-type {\n",
       "        vertical-align: middle;\n",
       "    }\n",
       "\n",
       "    .dataframe tbody tr th {\n",
       "        vertical-align: top;\n",
       "    }\n",
       "\n",
       "    .dataframe thead th {\n",
       "        text-align: right;\n",
       "    }\n",
       "</style>\n",
       "<table border=\"1\" class=\"dataframe\">\n",
       "  <thead>\n",
       "    <tr style=\"text-align: right;\">\n",
       "      <th></th>\n",
       "      <th>exper</th>\n",
       "      <th>expersq</th>\n",
       "      <th>educ_hat</th>\n",
       "    </tr>\n",
       "  </thead>\n",
       "  <tbody>\n",
       "    <tr>\n",
       "      <th>0</th>\n",
       "      <td>14</td>\n",
       "      <td>196</td>\n",
       "      <td>12.756017</td>\n",
       "    </tr>\n",
       "    <tr>\n",
       "      <th>1</th>\n",
       "      <td>5</td>\n",
       "      <td>25</td>\n",
       "      <td>11.733558</td>\n",
       "    </tr>\n",
       "    <tr>\n",
       "      <th>2</th>\n",
       "      <td>15</td>\n",
       "      <td>225</td>\n",
       "      <td>12.771979</td>\n",
       "    </tr>\n",
       "    <tr>\n",
       "      <th>3</th>\n",
       "      <td>6</td>\n",
       "      <td>36</td>\n",
       "      <td>11.767683</td>\n",
       "    </tr>\n",
       "    <tr>\n",
       "      <th>4</th>\n",
       "      <td>7</td>\n",
       "      <td>49</td>\n",
       "      <td>13.914615</td>\n",
       "    </tr>\n",
       "  </tbody>\n",
       "</table>\n",
       "</div>"
      ],
      "text/plain": [
       "   exper  expersq   educ_hat\n",
       "0     14      196  12.756017\n",
       "1      5       25  11.733558\n",
       "2     15      225  12.771979\n",
       "3      6       36  11.767683\n",
       "4      7       49  13.914615"
      ]
     },
     "execution_count": 23,
     "metadata": {},
     "output_type": "execute_result"
    }
   ],
   "source": [
    "reg2e.head()"
   ]
  },
  {
   "cell_type": "markdown",
   "id": "cc7f7aba-16c0-4e36-a2cf-50d78993d3db",
   "metadata": {},
   "source": [
    "Ahora, construimos el modelo tomando como variable dependiente la variable dependiente de la ecuación original(y1) y como variables explicativas las variables explicativas exógenas de la ecuaciónoriginal (las x, siguiendo la notación inicial) y la variable estimada en la primera etapa(¡ ˆy2 y no y2!).\n"
   ]
  },
  {
   "cell_type": "code",
   "execution_count": 24,
   "id": "3bd4f984-7c63-4369-92f6-36d08221a2c6",
   "metadata": {},
   "outputs": [
    {
     "name": "stdout",
     "output_type": "stream",
     "text": [
      "                            OLS Regression Results                            \n",
      "==============================================================================\n",
      "Dep. Variable:                  lwage   R-squared:                       0.050\n",
      "Model:                            OLS   Adj. R-squared:                  0.043\n",
      "Method:                 Least Squares   F-statistic:                     7.405\n",
      "Date:                Sat, 02 Sep 2023   Prob (F-statistic):           7.62e-05\n",
      "Time:                        18:49:53   Log-Likelihood:                -457.17\n",
      "No. Observations:                 428   AIC:                             922.3\n",
      "Df Residuals:                     424   BIC:                             938.6\n",
      "Df Model:                           3                                         \n",
      "Covariance Type:            nonrobust                                         \n",
      "==============================================================================\n",
      "                 coef    std err          t      P>|t|      [0.025      0.975]\n",
      "------------------------------------------------------------------------------\n",
      "const          0.0481      0.420      0.115      0.909      -0.777       0.873\n",
      "exper          0.0442      0.014      3.136      0.002       0.016       0.072\n",
      "expersq       -0.0009      0.000     -2.134      0.033      -0.002   -7.11e-05\n",
      "educ_hat       0.0614      0.033      1.863      0.063      -0.003       0.126\n",
      "==============================================================================\n",
      "Omnibus:                       53.587   Durbin-Watson:                   1.959\n",
      "Prob(Omnibus):                  0.000   Jarque-Bera (JB):              168.354\n",
      "Skew:                          -0.551   Prob(JB):                     2.77e-37\n",
      "Kurtosis:                       5.868   Cond. No.                     4.41e+03\n",
      "==============================================================================\n",
      "\n",
      "Notes:\n",
      "[1] Standard Errors assume that the covariance matrix of the errors is correctly specified.\n",
      "[2] The condition number is large, 4.41e+03. This might indicate that there are\n",
      "strong multicollinearity or other numerical problems.\n"
     ]
    }
   ],
   "source": [
    "model_2e = sm.OLS(Y1, sm.add_constant(reg2e))\n",
    "\n",
    "result_2e = model_2e.fit()\n",
    "\n",
    "print(result_2e.summary())"
   ]
  },
  {
   "cell_type": "markdown",
   "id": "403b61d9-feab-4640-a406-0a5ab9031463",
   "metadata": {},
   "source": [
    "Esta forma manual de realizar el procedimiento de MCO en 2 etapas es solo explicativa porque contiene ee erroreos. Es necesario utilizar la función contenida en el paquete para que calcule automaticamente las 2 etapas conteniendo la correccion de los errores tambien"
   ]
  },
  {
   "cell_type": "code",
   "execution_count": 25,
   "id": "4d3639e6-0f4a-4204-b4b9-c51ea23aa0db",
   "metadata": {},
   "outputs": [],
   "source": [
    "MC2E = IV(dependent= Y1 , exog = sm.add_constant(X) , endog = Y2, instruments = Z)"
   ]
  },
  {
   "cell_type": "code",
   "execution_count": 26,
   "id": "b1b32c40-7e72-4757-85aa-e533e0fd73f4",
   "metadata": {},
   "outputs": [],
   "source": [
    "resultado = MC2E.fit()"
   ]
  },
  {
   "cell_type": "code",
   "execution_count": 27,
   "id": "9b6dba93-b332-41ef-a203-c684d9287fa2",
   "metadata": {},
   "outputs": [
    {
     "name": "stdout",
     "output_type": "stream",
     "text": [
      "                          IV-2SLS Estimation Summary                          \n",
      "==============================================================================\n",
      "Dep. Variable:                  lwage   R-squared:                      0.1357\n",
      "Estimator:                    IV-2SLS   Adj. R-squared:                 0.1296\n",
      "No. Observations:                 428   F-statistic:                    18.611\n",
      "Date:                Sat, Sep 02 2023   P-value (F-stat)                0.0003\n",
      "Time:                        18:49:55   Distribution:                  chi2(3)\n",
      "Cov. Estimator:                robust                                         \n",
      "                                                                              \n",
      "                             Parameter Estimates                              \n",
      "==============================================================================\n",
      "            Parameter  Std. Err.     T-stat    P-value    Lower CI    Upper CI\n",
      "------------------------------------------------------------------------------\n",
      "const          0.0481     0.4278     0.1124     0.9105     -0.7903      0.8865\n",
      "exper          0.0442     0.0155     2.8546     0.0043      0.0138      0.0745\n",
      "expersq       -0.0009     0.0004    -2.1001     0.0357     -0.0017  -5.997e-05\n",
      "educ           0.0614     0.0332     1.8503     0.0643     -0.0036      0.1264\n",
      "==============================================================================\n",
      "\n",
      "Endogenous: educ\n",
      "Instruments: motheduc, fatheduc\n",
      "Robust Covariance (Heteroskedastic)\n",
      "Debiased: False\n"
     ]
    }
   ],
   "source": [
    "print(resultado.summary)"
   ]
  },
  {
   "cell_type": "code",
   "execution_count": 28,
   "id": "79f3cb42-4670-48fa-be32-1debd321021d",
   "metadata": {},
   "outputs": [],
   "source": [
    "from linearmodels.iv import compare"
   ]
  },
  {
   "cell_type": "code",
   "execution_count": 29,
   "id": "e0f75855-6d82-4562-9e8a-2860e7511a6b",
   "metadata": {
    "tags": []
   },
   "outputs": [],
   "source": [
    "result_MCO = IV(dependent = Y1, exog = sm.add_constant(regMCO) , endog = None , instruments = None).fit()"
   ]
  },
  {
   "cell_type": "code",
   "execution_count": 30,
   "id": "81186990-a6d9-4153-be9b-1a5188217b83",
   "metadata": {},
   "outputs": [],
   "source": [
    "result_man = IV(dependent = Y1, exog = sm.add_constant(reg2e) , endog = None , instruments = None).fit()"
   ]
  },
  {
   "cell_type": "code",
   "execution_count": 31,
   "id": "7df9afcc-068c-40e0-91ee-08768e60fa14",
   "metadata": {},
   "outputs": [],
   "source": [
    "result_MC2E = IV(dependent = Y1, exog = sm.add_constant(X) , endog = Y2 , instruments = Z).fit()"
   ]
  },
  {
   "cell_type": "code",
   "execution_count": 32,
   "id": "d13ad16d-35bd-4789-93d0-9c1203ddbbb9",
   "metadata": {},
   "outputs": [],
   "source": [
    "resultados_comp = compare({'MCO':result_MCO , 'MC2E manual' : result_man , 'MC2E' : result_MC2E}, stars = True , precision = 'std_errors')"
   ]
  },
  {
   "cell_type": "code",
   "execution_count": 33,
   "id": "f61108d0-ed8f-4979-8ed5-b6082e7310a4",
   "metadata": {},
   "outputs": [
    {
     "name": "stdout",
     "output_type": "stream",
     "text": [
      "                        Model Comparison                       \n",
      "===============================================================\n",
      "                                MCO   MC2E manual          MC2E\n",
      "---------------------------------------------------------------\n",
      "Dep. Variable                 lwage         lwage         lwage\n",
      "Estimator                       OLS           OLS       IV-2SLS\n",
      "No. Observations                428           428           428\n",
      "Cov. Est.                    robust        robust        robust\n",
      "R-squared                    0.1568        0.0498        0.1357\n",
      "Adj. R-squared               0.1509        0.0431        0.1296\n",
      "F-statistic                  82.671        17.111        18.611\n",
      "P-value (F-stat)             0.0000        0.0007        0.0003\n",
      "==================     ============   ===========   ===========\n",
      "const                    -0.5220***        0.0481        0.0481\n",
      "                           (0.2007)      (0.4492)      (0.4278)\n",
      "exper                     0.0416***     0.0442***     0.0442***\n",
      "                           (0.0152)      (0.0163)      (0.0155)\n",
      "expersq                    -0.0008*     -0.0009**     -0.0009**\n",
      "                           (0.0004)      (0.0005)      (0.0004)\n",
      "educ                      0.1075***                     0.0614*\n",
      "                           (0.0132)                    (0.0332)\n",
      "educ_hat                                  0.0614*              \n",
      "                                         (0.0350)              \n",
      "==================== ============== ============= =============\n",
      "Instruments                                            motheduc\n",
      "                                                       fatheduc\n",
      "---------------------------------------------------------------\n",
      "\n",
      "Std. Errors reported in parentheses\n"
     ]
    }
   ],
   "source": [
    "print(resultados_comp)"
   ]
  },
  {
   "cell_type": "code",
   "execution_count": 34,
   "id": "334d8717-5f0e-4076-90a6-abdd9765e3c5",
   "metadata": {},
   "outputs": [
    {
     "name": "stdout",
     "output_type": "stream",
     "text": [
      "Help on IVModelComparison in module linearmodels.iv.results object:\n",
      "\n",
      "class IVModelComparison(linearmodels.shared.base._ModelComparison)\n",
      " |  IVModelComparison(results: 'Sequence[AnyResult] | dict[str, AnyResult]', *, precision: 'str' = 'tstats', stars: 'bool' = False)\n",
      " |  \n",
      " |  Comparison of multiple models\n",
      " |  \n",
      " |  Parameters\n",
      " |  ----------\n",
      " |  results : {list, dict}\n",
      " |      Set of results to compare.  If a dict, the keys will be used as model\n",
      " |      names.\n",
      " |  precision : {\"tstats\",\"std_errors\", \"std-errors\", \"pvalues\"}\n",
      " |      Estimator precision estimator to include in the comparison output.\n",
      " |      Default is \"tstats\".\n",
      " |  stars : bool\n",
      " |      Add stars based on the p-value of the coefficient where 1, 2 and\n",
      " |      3-stars correspond to p-values of 10%, 5% and 1%, respectively.\n",
      " |  \n",
      " |  Method resolution order:\n",
      " |      IVModelComparison\n",
      " |      linearmodels.shared.base._ModelComparison\n",
      " |      linearmodels.shared.base._SummaryStr\n",
      " |      builtins.object\n",
      " |  \n",
      " |  Methods defined here:\n",
      " |  \n",
      " |  __init__(self, results: 'Sequence[AnyResult] | dict[str, AnyResult]', *, precision: 'str' = 'tstats', stars: 'bool' = False)\n",
      " |      Initialize self.  See help(type(self)) for accurate signature.\n",
      " |  \n",
      " |  ----------------------------------------------------------------------\n",
      " |  Readonly properties defined here:\n",
      " |  \n",
      " |  cov_estimator\n",
      " |      Covariance estimator descriptions\n",
      " |  \n",
      " |  estimator_method\n",
      " |      Estimation methods\n",
      " |  \n",
      " |  rsquared_adj\n",
      " |      Sample-size adjusted coefficients of determination (R**2)\n",
      " |  \n",
      " |  summary\n",
      " |      Model estimation summary.\n",
      " |      \n",
      " |      Returns\n",
      " |      -------\n",
      " |      Summary\n",
      " |          Summary table of model estimation results\n",
      " |      \n",
      " |      Notes\n",
      " |      -----\n",
      " |      Supports export to csv, html and latex  using the methods ``summary.as_csv()``,\n",
      " |      ``summary.as_html()`` and ``summary.as_latex()``.\n",
      " |  \n",
      " |  ----------------------------------------------------------------------\n",
      " |  Readonly properties inherited from linearmodels.shared.base._ModelComparison:\n",
      " |  \n",
      " |  f_statistic\n",
      " |      F-statistics and P-values\n",
      " |  \n",
      " |  nobs\n",
      " |      Parameters for all models\n",
      " |  \n",
      " |  params\n",
      " |      Parameters for all models\n",
      " |  \n",
      " |  pvalues\n",
      " |      Parameter p-vals for all models\n",
      " |  \n",
      " |  rsquared\n",
      " |      Coefficients of determination (R**2)\n",
      " |  \n",
      " |  std_errors\n",
      " |      Parameter standard errors for all models\n",
      " |  \n",
      " |  tstats\n",
      " |      Parameter t-stats for all models\n",
      " |  \n",
      " |  ----------------------------------------------------------------------\n",
      " |  Data and other attributes inherited from linearmodels.shared.base._ModelComparison:\n",
      " |  \n",
      " |  __annotations__ = {'_supported': 'tuple[type, ...]'}\n",
      " |  \n",
      " |  ----------------------------------------------------------------------\n",
      " |  Methods inherited from linearmodels.shared.base._SummaryStr:\n",
      " |  \n",
      " |  __repr__(self) -> 'str'\n",
      " |      Return repr(self).\n",
      " |  \n",
      " |  __str__(self) -> 'str'\n",
      " |      Return str(self).\n",
      " |  \n",
      " |  ----------------------------------------------------------------------\n",
      " |  Data descriptors inherited from linearmodels.shared.base._SummaryStr:\n",
      " |  \n",
      " |  __dict__\n",
      " |      dictionary for instance variables (if defined)\n",
      " |  \n",
      " |  __weakref__\n",
      " |      list of weak references to the object (if defined)\n",
      "\n"
     ]
    }
   ],
   "source": [
    "help(resultados_comp)"
   ]
  }
 ],
 "metadata": {
  "kernelspec": {
   "display_name": "Python 3 (ipykernel)",
   "language": "python",
   "name": "python3"
  },
  "language_info": {
   "codemirror_mode": {
    "name": "ipython",
    "version": 3
   },
   "file_extension": ".py",
   "mimetype": "text/x-python",
   "name": "python",
   "nbconvert_exporter": "python",
   "pygments_lexer": "ipython3",
   "version": "3.9.13"
  }
 },
 "nbformat": 4,
 "nbformat_minor": 5
}
